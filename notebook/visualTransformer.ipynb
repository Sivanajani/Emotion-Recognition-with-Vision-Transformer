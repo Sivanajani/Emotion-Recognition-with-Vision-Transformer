{
 "cells": [
  {
   "cell_type": "code",
   "execution_count": null,
   "metadata": {
    "colab": {
     "base_uri": "https://localhost:8080/"
    },
    "collapsed": true,
    "executionInfo": {
     "elapsed": 3174,
     "status": "ok",
     "timestamp": 1731607564829,
     "user": {
      "displayName": "Sivanajani Sivakumar",
      "userId": "00272301002448920096"
     },
     "user_tz": -60
    },
    "id": "D9U2lLFq4Myr",
    "outputId": "a97d6d13-936f-4943-cd09-0288c96967b3"
   },
   "outputs": [
    {
     "name": "stdout",
     "output_type": "stream",
     "text": [
      "Requirement already satisfied: torch in /usr/local/lib/python3.10/dist-packages (2.5.0+cu121)\n",
      "Requirement already satisfied: torchvision in /usr/local/lib/python3.10/dist-packages (0.20.0+cu121)\n",
      "Requirement already satisfied: transformers in /usr/local/lib/python3.10/dist-packages (4.46.2)\n",
      "Requirement already satisfied: filelock in /usr/local/lib/python3.10/dist-packages (from torch) (3.16.1)\n",
      "Requirement already satisfied: typing-extensions>=4.8.0 in /usr/local/lib/python3.10/dist-packages (from torch) (4.12.2)\n",
      "Requirement already satisfied: networkx in /usr/local/lib/python3.10/dist-packages (from torch) (3.4.2)\n",
      "Requirement already satisfied: jinja2 in /usr/local/lib/python3.10/dist-packages (from torch) (3.1.4)\n",
      "Requirement already satisfied: fsspec in /usr/local/lib/python3.10/dist-packages (from torch) (2024.10.0)\n",
      "Requirement already satisfied: sympy==1.13.1 in /usr/local/lib/python3.10/dist-packages (from torch) (1.13.1)\n",
      "Requirement already satisfied: mpmath<1.4,>=1.1.0 in /usr/local/lib/python3.10/dist-packages (from sympy==1.13.1->torch) (1.3.0)\n",
      "Requirement already satisfied: numpy in /usr/local/lib/python3.10/dist-packages (from torchvision) (1.26.4)\n",
      "Requirement already satisfied: pillow!=8.3.*,>=5.3.0 in /usr/local/lib/python3.10/dist-packages (from torchvision) (11.0.0)\n",
      "Requirement already satisfied: huggingface-hub<1.0,>=0.23.2 in /usr/local/lib/python3.10/dist-packages (from transformers) (0.26.2)\n",
      "Requirement already satisfied: packaging>=20.0 in /usr/local/lib/python3.10/dist-packages (from transformers) (24.2)\n",
      "Requirement already satisfied: pyyaml>=5.1 in /usr/local/lib/python3.10/dist-packages (from transformers) (6.0.2)\n",
      "Requirement already satisfied: regex!=2019.12.17 in /usr/local/lib/python3.10/dist-packages (from transformers) (2024.9.11)\n",
      "Requirement already satisfied: requests in /usr/local/lib/python3.10/dist-packages (from transformers) (2.32.3)\n",
      "Requirement already satisfied: safetensors>=0.4.1 in /usr/local/lib/python3.10/dist-packages (from transformers) (0.4.5)\n",
      "Requirement already satisfied: tokenizers<0.21,>=0.20 in /usr/local/lib/python3.10/dist-packages (from transformers) (0.20.3)\n",
      "Requirement already satisfied: tqdm>=4.27 in /usr/local/lib/python3.10/dist-packages (from transformers) (4.66.6)\n",
      "Requirement already satisfied: MarkupSafe>=2.0 in /usr/local/lib/python3.10/dist-packages (from jinja2->torch) (3.0.2)\n",
      "Requirement already satisfied: charset-normalizer<4,>=2 in /usr/local/lib/python3.10/dist-packages (from requests->transformers) (3.4.0)\n",
      "Requirement already satisfied: idna<4,>=2.5 in /usr/local/lib/python3.10/dist-packages (from requests->transformers) (3.10)\n",
      "Requirement already satisfied: urllib3<3,>=1.21.1 in /usr/local/lib/python3.10/dist-packages (from requests->transformers) (2.2.3)\n",
      "Requirement already satisfied: certifi>=2017.4.17 in /usr/local/lib/python3.10/dist-packages (from requests->transformers) (2024.8.30)\n"
     ]
    }
   ],
   "source": [
    "!pip install torch torchvision transformers"
   ]
  },
  {
   "cell_type": "code",
   "execution_count": null,
   "metadata": {
    "colab": {
     "base_uri": "https://localhost:8080/"
    },
    "executionInfo": {
     "elapsed": 3365,
     "status": "ok",
     "timestamp": 1731609394910,
     "user": {
      "displayName": "Sivanajani Sivakumar",
      "userId": "00272301002448920096"
     },
     "user_tz": -60
    },
    "id": "-IlkLndP4p4x",
    "outputId": "46f3f28c-d760-4554-e25a-73f9fec71fd7"
   },
   "outputs": [
    {
     "name": "stdout",
     "output_type": "stream",
     "text": [
      "Drive already mounted at /content/drive; to attempt to forcibly remount, call drive.mount(\"/content/drive\", force_remount=True).\n"
     ]
    }
   ],
   "source": [
    "from google.colab import drive\n",
    "drive.mount('/content/drive')"
   ]
  },
  {
   "cell_type": "code",
   "execution_count": null,
   "metadata": {
    "id": "ZPlqLZpr9THg"
   },
   "outputs": [],
   "source": [
    "import torch\n",
    "from torch import nn\n",
    "from torch.utils.data import DataLoader\n",
    "from torchvision import datasets, transforms\n",
    "from transformers import ViTForImageClassification, ViTFeatureExtractor\n",
    "from sklearn.metrics import precision_score, recall_score, f1_score\n",
    "from torch.optim.lr_scheduler import ReduceLROnPlateau\n",
    "import os\n",
    "import time\n",
    "from tqdm import tqdm"
   ]
  },
  {
   "cell_type": "code",
   "execution_count": null,
   "metadata": {
    "colab": {
     "base_uri": "https://localhost:8080/"
    },
    "executionInfo": {
     "elapsed": 1039,
     "status": "ok",
     "timestamp": 1731609409589,
     "user": {
      "displayName": "Sivanajani Sivakumar",
      "userId": "00272301002448920096"
     },
     "user_tz": -60
    },
    "id": "DITgpGAN9epg",
    "outputId": "9179b900-9bb3-4773-db71-4b6025a7fa17"
   },
   "outputs": [
    {
     "name": "stdout",
     "output_type": "stream",
     "text": [
      "Using cuda device\n"
     ]
    }
   ],
   "source": [
    "# Check for GPU availability and set device\n",
    "device = torch.device(\"cuda\" if torch.cuda.is_available() else \"cpu\")\n",
    "print(f\"Using {device} device\")"
   ]
  },
  {
   "cell_type": "code",
   "execution_count": null,
   "metadata": {
    "colab": {
     "base_uri": "https://localhost:8080/"
    },
    "executionInfo": {
     "elapsed": 8454,
     "status": "ok",
     "timestamp": 1731609456444,
     "user": {
      "displayName": "Sivanajani Sivakumar",
      "userId": "00272301002448920096"
     },
     "user_tz": -60
    },
    "id": "UXMSTRir-SVT",
    "outputId": "810b8a35-772f-49db-f367-3ed444a844b3"
   },
   "outputs": [
    {
     "name": "stdout",
     "output_type": "stream",
     "text": [
      "Extraction successful: /content/train.zip\n",
      "Extraction successful: /content/test.zip\n"
     ]
    }
   ],
   "source": [
    "# Unzip function\n",
    "import zipfile\n",
    "\n",
    "def extract_zip(file_path):\n",
    "    try:\n",
    "        with zipfile.ZipFile(file_path, 'r') as zip_ref:\n",
    "            zip_ref.extractall('/content/')\n",
    "        print(f\"Extraction successful: {file_path}\")\n",
    "    except zipfile.BadZipFile:\n",
    "        print(f\"Error extracting {file_path}. Please check the file.\")\n",
    "\n",
    "# Extract the files\n",
    "extract_zip('/content/train.zip')\n",
    "extract_zip('/content/test.zip')"
   ]
  },
  {
   "cell_type": "code",
   "execution_count": null,
   "metadata": {
    "colab": {
     "base_uri": "https://localhost:8080/"
    },
    "executionInfo": {
     "elapsed": 533,
     "status": "ok",
     "timestamp": 1731611371916,
     "user": {
      "displayName": "Sivanajani Sivakumar",
      "userId": "00272301002448920096"
     },
     "user_tz": -60
    },
    "id": "NkiEYATGDtwr",
    "outputId": "8ee58c2d-f777-44f7-9d2a-3b294d400dd4"
   },
   "outputs": [
    {
     "name": "stdout",
     "output_type": "stream",
     "text": [
      "Train dataset size: 31761\n",
      "Train dataset size: 7955\n"
     ]
    }
   ],
   "source": [
    "# Bildtransformationen\n",
    "transform = transforms.Compose([\n",
    "    transforms.RandomResizedCrop((224, 224)),\n",
    "    transforms.RandomHorizontalFlip(),\n",
    "    transforms.RandomRotation(15),\n",
    "    transforms.ColorJitter(brightness=0.3, contrast=0.3, saturation=0.3, hue=0.1),\n",
    "    transforms.ToTensor(),\n",
    "    transforms.Normalize([0.5, 0.5, 0.5], [0.5, 0.5, 0.5])\n",
    "])\n",
    "\n",
    "# Datensätze laden\n",
    "train_dataset = datasets.ImageFolder(\"/content/train\", transform=transform)\n",
    "test_dataset = datasets.ImageFolder(\"/content/test\", transform=transform)\n",
    "\n",
    "# DataLoader für Training und Test\n",
    "train_loader = DataLoader(train_dataset, batch_size=64, shuffle=True)\n",
    "test_loader = DataLoader(test_dataset, batch_size=64, shuffle=False)\n",
    "\n",
    "print(f\"Train dataset size: {len(train_dataset)}\")\n",
    "print(f\"Train dataset size: {len(test_dataset)}\")\n"
   ]
  },
  {
   "cell_type": "code",
   "execution_count": null,
   "metadata": {
    "colab": {
     "base_uri": "https://localhost:8080/"
    },
    "executionInfo": {
     "elapsed": 434,
     "status": "ok",
     "timestamp": 1731611741065,
     "user": {
      "displayName": "Sivanajani Sivakumar",
      "userId": "00272301002448920096"
     },
     "user_tz": -60
    },
    "id": "uDYScpFO-Xc3",
    "outputId": "25b8f4d6-4340-42dd-d10a-ef600a5dcd14"
   },
   "outputs": [
    {
     "name": "stdout",
     "output_type": "stream",
     "text": [
      "Loaded 31761 images from train\n",
      "Class angry: 3995 images (12.6%)\n",
      "Class disgusted: 3488 images (11.0%)\n",
      "Class fearful: 4097 images (12.9%)\n",
      "Class happy: 7215 images (22.7%)\n",
      "Class neutral: 4965 images (15.6%)\n",
      "Class sad: 4830 images (15.2%)\n",
      "Class surprised: 3171 images (10.0%)\n",
      "Loaded 7955 images from test\n",
      "Class angry: 958 images (12.0%)\n",
      "Class disgusted: 888 images (11.2%)\n",
      "Class fearful: 1024 images (12.9%)\n",
      "Class happy: 1774 images (22.3%)\n",
      "Class neutral: 1233 images (15.5%)\n",
      "Class sad: 1247 images (15.7%)\n",
      "Class surprised: 831 images (10.4%)\n"
     ]
    }
   ],
   "source": [
    "# Class count display function\n",
    "def display_class_distribution(dataset, dataset_name=\"Dataset\"):\n",
    "    class_counts = {class_name: 0 for class_name in dataset.classes}\n",
    "    for _, label in dataset.samples:\n",
    "        class_counts[dataset.classes[label]] += 1\n",
    "\n",
    "    print(f\"Loaded {len(dataset)} images from {dataset_name}\")\n",
    "    for class_name, count in class_counts.items():\n",
    "        percentage = (count / len(dataset)) * 100\n",
    "        print(f\"Class {class_name}: {count} images ({percentage:.1f}%)\")\n",
    "\n",
    "# Display class distribution for train and validation sets\n",
    "display_class_distribution(train_dataset, \"train\")\n",
    "display_class_distribution(test_dataset, \"test\")"
   ]
  },
  {
   "cell_type": "code",
   "execution_count": null,
   "metadata": {
    "colab": {
     "base_uri": "https://localhost:8080/"
    },
    "executionInfo": {
     "elapsed": 1626,
     "status": "ok",
     "timestamp": 1731609623652,
     "user": {
      "displayName": "Sivanajani Sivakumar",
      "userId": "00272301002448920096"
     },
     "user_tz": -60
    },
    "id": "guvnfoIJ-b34",
    "outputId": "06d539f3-0bbf-450f-84b5-f2ffaae8a47e"
   },
   "outputs": [
    {
     "name": "stderr",
     "output_type": "stream",
     "text": [
      "Some weights of ViTForImageClassification were not initialized from the model checkpoint at google/vit-base-patch16-224 and are newly initialized because the shapes did not match:\n",
      "- classifier.bias: found shape torch.Size([1000]) in the checkpoint and torch.Size([7]) in the model instantiated\n",
      "- classifier.weight: found shape torch.Size([1000, 768]) in the checkpoint and torch.Size([7, 768]) in the model instantiated\n",
      "You should probably TRAIN this model on a down-stream task to be able to use it for predictions and inference.\n"
     ]
    }
   ],
   "source": [
    "# Set up model, optimizer, and criterion\n",
    "num_classes = len(train_dataset.classes)\n",
    "model = ViTForImageClassification.from_pretrained(\"google/vit-base-patch16-224\", num_labels=num_classes, ignore_mismatched_sizes=True)\n",
    "model.to(device)\n",
    "\n",
    "optimizer = torch.optim.Adam(model.parameters(), lr=1e-5)\n",
    "criterion = nn.CrossEntropyLoss()"
   ]
  },
  {
   "cell_type": "code",
   "execution_count": null,
   "metadata": {
    "id": "a1ZCZE_Q-pTd"
   },
   "outputs": [],
   "source": [
    "# Initialize learning rate scheduler and early stopping\n",
    "scheduler = ReduceLROnPlateau(optimizer, mode='min', factor=0.1, patience=3, verbose=True)\n",
    "early_stopping_patience = 5\n",
    "best_val_loss = float('inf')\n",
    "early_stopping_counter = 0"
   ]
  },
  {
   "cell_type": "code",
   "execution_count": null,
   "metadata": {
    "id": "D2likN8d-d5i"
   },
   "outputs": [],
   "source": [
    "# Metric storage\n",
    "train_loss_history, val_loss_history = [], []\n",
    "train_accuracy_history, val_accuracy_history = [], []\n",
    "learning_rate_history = []\n",
    "precision_history, recall_history, f1_score_history = [], [], []"
   ]
  },
  {
   "cell_type": "code",
   "execution_count": null,
   "metadata": {
    "colab": {
     "base_uri": "https://localhost:8080/"
    },
    "executionInfo": {
     "elapsed": 5941420,
     "status": "ok",
     "timestamp": 1731617843240,
     "user": {
      "displayName": "Sivanajani Sivakumar",
      "userId": "00272301002448920096"
     },
     "user_tz": -60
    },
    "id": "Lbr92sd9HJ-Z",
    "outputId": "9892f1d7-2927-4121-adcd-6f179900203e"
   },
   "outputs": [
    {
     "name": "stderr",
     "output_type": "stream",
     "text": [
      "Epoch [1/5]: 100%|██████████| 497/497 [19:25<00:00,  2.34s/batch, Loss=0.761, Accuracy=55.7]\n"
     ]
    },
    {
     "name": "stdout",
     "output_type": "stream",
     "text": [
      "Epoch [1/5], Train Loss: 1.1698, Train Accuracy: 55.69%, Duration: 1165.10 seconds\n"
     ]
    },
    {
     "name": "stderr",
     "output_type": "stream",
     "text": [
      "Epoch [2/5]: 100%|██████████| 497/497 [19:20<00:00,  2.34s/batch, Loss=1.07, Accuracy=58.6]\n"
     ]
    },
    {
     "name": "stdout",
     "output_type": "stream",
     "text": [
      "Epoch [2/5], Train Loss: 1.0988, Train Accuracy: 58.59%, Duration: 1160.73 seconds\n"
     ]
    },
    {
     "name": "stderr",
     "output_type": "stream",
     "text": [
      "Epoch [3/5]: 100%|██████████| 497/497 [19:20<00:00,  2.33s/batch, Loss=0.826, Accuracy=60.8]\n"
     ]
    },
    {
     "name": "stdout",
     "output_type": "stream",
     "text": [
      "Epoch [3/5], Train Loss: 1.0482, Train Accuracy: 60.77%, Duration: 1160.46 seconds\n"
     ]
    },
    {
     "name": "stderr",
     "output_type": "stream",
     "text": [
      "Epoch [4/5]: 100%|██████████| 497/497 [19:19<00:00,  2.33s/batch, Loss=0.888, Accuracy=61.5]\n"
     ]
    },
    {
     "name": "stdout",
     "output_type": "stream",
     "text": [
      "Epoch [4/5], Train Loss: 1.0193, Train Accuracy: 61.49%, Duration: 1159.85 seconds\n"
     ]
    },
    {
     "name": "stderr",
     "output_type": "stream",
     "text": [
      "Epoch [5/5]: 100%|██████████| 497/497 [19:20<00:00,  2.34s/batch, Loss=0.847, Accuracy=62.5]\n"
     ]
    },
    {
     "name": "stdout",
     "output_type": "stream",
     "text": [
      "Epoch [5/5], Train Loss: 0.9929, Train Accuracy: 62.52%, Duration: 1160.95 seconds\n",
      "Test Accuracy: 61.11%\n",
      "Test Precision: 0.6115\n",
      "Test Recall: 0.5963\n",
      "Test F1-Score: 0.5985\n",
      "Training history saved as 'training_history.pth' in Google Drive\n"
     ]
    }
   ],
   "source": [
    "# Trainingsschleife\n",
    "epochs = 5  # Passe die Anzahl der Epochen an\n",
    "for epoch in range(epochs):\n",
    "    start_time = time.time()\n",
    "    model.train()\n",
    "    running_loss, correct, total = 0.0, 0, 0\n",
    "\n",
    "    current_lr = optimizer.param_groups[0]['lr']\n",
    "    learning_rate_history.append(current_lr)\n",
    "\n",
    "    with tqdm(total=len(train_loader), desc=f\"Epoch [{epoch + 1}/{epochs}]\", unit=\"batch\") as pbar:\n",
    "        for images, labels in train_loader:\n",
    "            images, labels = images.to(device), labels.to(device)\n",
    "            outputs = model(images).logits\n",
    "            loss = criterion(outputs, labels)\n",
    "\n",
    "            optimizer.zero_grad()\n",
    "            loss.backward()\n",
    "            optimizer.step()\n",
    "\n",
    "            running_loss += loss.item()\n",
    "            _, predicted = torch.max(outputs, 1)\n",
    "            total += labels.size(0)\n",
    "            correct += (predicted == labels).sum().item()\n",
    "            pbar.update(1)\n",
    "            pbar.set_postfix({\"Loss\": loss.item(), \"Accuracy\": 100 * correct / total})\n",
    "\n",
    "    epoch_train_loss = running_loss / len(train_loader)\n",
    "    epoch_train_accuracy = 100 * correct / total\n",
    "    train_loss_history.append(epoch_train_loss)\n",
    "    train_accuracy_history.append(epoch_train_accuracy)\n",
    "\n",
    "    # Epoch-Ende Ausgaben\n",
    "    epoch_duration = time.time() - start_time\n",
    "    print(f\"Epoch [{epoch + 1}/{epochs}], Train Loss: {epoch_train_loss:.4f}, Train Accuracy: {epoch_train_accuracy:.2f}%, Duration: {epoch_duration:.2f} seconds\")\n",
    "\n",
    "    # Scheduler anpassen\n",
    "    scheduler.step(epoch_train_loss)\n",
    "\n",
    "    # Early Stopping\n",
    "    if epoch_train_loss < best_val_loss:\n",
    "        best_val_loss = epoch_train_loss\n",
    "        early_stopping_counter = 0\n",
    "        torch.save(model.state_dict(), '/content/drive/MyDrive/colab_results/best_model.pth')\n",
    "    else:\n",
    "        early_stopping_counter += 1\n",
    "        if early_stopping_counter >= early_stopping_patience:\n",
    "            print(\"Early stopping triggered.\")\n",
    "            break\n",
    "\n",
    "# Testphase\n",
    "model.eval()\n",
    "test_correct, test_total = 0, 0\n",
    "all_labels, all_predictions = [], []\n",
    "\n",
    "with torch.no_grad():\n",
    "    for images, labels in test_loader:\n",
    "        images, labels = images.to(device), labels.to(device)\n",
    "        outputs = model(images).logits\n",
    "        _, predicted = torch.max(outputs, 1)\n",
    "        test_total += labels.size(0)\n",
    "        test_correct += (predicted == labels).sum().item()\n",
    "        all_labels.extend(labels.cpu().numpy())\n",
    "        all_predictions.extend(predicted.cpu().numpy())\n",
    "\n",
    "# Berechnung der Testgenauigkeit und anderer Metriken\n",
    "test_accuracy = 100 * test_correct / test_total\n",
    "test_precision = precision_score(all_labels, all_predictions, average='macro')\n",
    "test_recall = recall_score(all_labels, all_predictions, average='macro')\n",
    "test_f1_score = f1_score(all_labels, all_predictions, average='macro')\n",
    "\n",
    "print(f\"Test Accuracy: {test_accuracy:.2f}%\")\n",
    "print(f\"Test Precision: {test_precision:.4f}\")\n",
    "print(f\"Test Recall: {test_recall:.4f}\")\n",
    "print(f\"Test F1-Score: {test_f1_score:.4f}\")\n",
    "\n",
    "# Speichern der Trainingshistorie\n",
    "training_history = {\n",
    "    'train_loss': train_loss_history,\n",
    "    'train_accuracy': train_accuracy_history,\n",
    "    'learning_rate': learning_rate_history,\n",
    "    'test_accuracy': test_accuracy,\n",
    "    'test_precision': test_precision,\n",
    "    'test_recall': test_recall,\n",
    "    'test_f1_score': test_f1_score\n",
    "}\n",
    "\n",
    "torch.save(training_history, '/content/drive/MyDrive/colab_results/training_history.pth')\n",
    "print(\"Training history saved as 'training_history.pth' in Google Drive\")\n"
   ]
  },
  {
   "cell_type": "code",
   "execution_count": null,
   "metadata": {
    "colab": {
     "base_uri": "https://localhost:8080/"
    },
    "executionInfo": {
     "elapsed": 4077,
     "status": "ok",
     "timestamp": 1731618264567,
     "user": {
      "displayName": "Sivanajani Sivakumar",
      "userId": "00272301002448920096"
     },
     "user_tz": -60
    },
    "id": "-M-ukIwIfTBa",
    "outputId": "5621d52b-54df-4cd3-dabf-f8d35ef358af"
   },
   "outputs": [
    {
     "name": "stderr",
     "output_type": "stream",
     "text": [
      "Some weights of ViTForImageClassification were not initialized from the model checkpoint at google/vit-base-patch16-224 and are newly initialized because the shapes did not match:\n",
      "- classifier.bias: found shape torch.Size([1000]) in the checkpoint and torch.Size([7]) in the model instantiated\n",
      "- classifier.weight: found shape torch.Size([1000, 768]) in the checkpoint and torch.Size([7, 768]) in the model instantiated\n",
      "You should probably TRAIN this model on a down-stream task to be able to use it for predictions and inference.\n",
      "<ipython-input-35-843e54b0742a>:4: FutureWarning: You are using `torch.load` with `weights_only=False` (the current default value), which uses the default pickle module implicitly. It is possible to construct malicious pickle data which will execute arbitrary code during unpickling (See https://github.com/pytorch/pytorch/blob/main/SECURITY.md#untrusted-models for more details). In a future release, the default value for `weights_only` will be flipped to `True`. This limits the functions that could be executed during unpickling. Arbitrary objects will no longer be allowed to be loaded via this mode unless they are explicitly allowlisted by the user via `torch.serialization.add_safe_globals`. We recommend you start setting `weights_only=True` for any use case where you don't have full control of the loaded file. Please open an issue on GitHub for any issues related to this experimental feature.\n",
      "  model.load_state_dict(torch.load('/content/drive/MyDrive/colab_results/best_model.pth'))  # Lade die gespeicherten Gewichtungen\n"
     ]
    }
   ],
   "source": [
    "# Modell und Optimizer laden\n",
    "num_classes = len(train_dataset.classes)\n",
    "model = ViTForImageClassification.from_pretrained(\"google/vit-base-patch16-224\", num_labels=num_classes, ignore_mismatched_sizes=True)\n",
    "model.load_state_dict(torch.load('/content/drive/MyDrive/colab_results/best_model.pth'))  # Lade die gespeicherten Gewichtungen\n",
    "model.to(device)\n",
    "\n",
    "optimizer = torch.optim.Adam(model.parameters(), lr=1e-5)  # Setze den Optimizer wie zuvor\n",
    "criterion = nn.CrossEntropyLoss()"
   ]
  },
  {
   "cell_type": "code",
   "execution_count": null,
   "metadata": {
    "colab": {
     "base_uri": "https://localhost:8080/"
    },
    "id": "5pUNeIswfY7T",
    "outputId": "dc2e950c-7f4f-499c-b458-a9dfe7051a28"
   },
   "outputs": [
    {
     "name": "stderr",
     "output_type": "stream",
     "text": [
      "Epoch [6/10]: 100%|██████████| 497/497 [19:22<00:00,  2.34s/batch, Loss=1.03, Accuracy=63.9]\n"
     ]
    },
    {
     "name": "stdout",
     "output_type": "stream",
     "text": [
      "Epoch [6/10], Train Loss: 0.9691, Train Accuracy: 63.89%, Duration: 1162.42 seconds\n"
     ]
    },
    {
     "name": "stderr",
     "output_type": "stream",
     "text": [
      "Epoch [7/10]: 100%|██████████| 497/497 [19:21<00:00,  2.34s/batch, Loss=1.15, Accuracy=64.5]\n"
     ]
    },
    {
     "name": "stdout",
     "output_type": "stream",
     "text": [
      "Epoch [7/10], Train Loss: 0.9434, Train Accuracy: 64.54%, Duration: 1161.14 seconds\n"
     ]
    },
    {
     "name": "stderr",
     "output_type": "stream",
     "text": [
      "Epoch [8/10]:  84%|████████▎ | 415/497 [16:11<03:13,  2.36s/batch, Loss=0.977, Accuracy=64.9]"
     ]
    }
   ],
   "source": [
    "# Trainiere das Modell für weitere 5 Epochen\n",
    "additional_epochs = 5\n",
    "total_epochs = epochs + additional_epochs  # Gesamtanzahl der Epochen erhöhen\n",
    "\n",
    "for epoch in range(epochs, total_epochs):  # Startet von der bisherigen Anzahl der Epochen\n",
    "    start_time = time.time()\n",
    "    model.train()\n",
    "    running_loss, correct, total = 0.0, 0, 0\n",
    "\n",
    "    current_lr = optimizer.param_groups[0]['lr']\n",
    "    learning_rate_history.append(current_lr)\n",
    "\n",
    "    with tqdm(total=len(train_loader), desc=f\"Epoch [{epoch + 1}/{total_epochs}]\", unit=\"batch\") as pbar:\n",
    "        for images, labels in train_loader:\n",
    "            images, labels = images.to(device), labels.to(device)\n",
    "            outputs = model(images).logits\n",
    "            loss = criterion(outputs, labels)\n",
    "\n",
    "            optimizer.zero_grad()\n",
    "            loss.backward()\n",
    "            optimizer.step()\n",
    "\n",
    "            running_loss += loss.item()\n",
    "            _, predicted = torch.max(outputs, 1)\n",
    "            total += labels.size(0)\n",
    "            correct += (predicted == labels).sum().item()\n",
    "            pbar.update(1)\n",
    "            pbar.set_postfix({\"Loss\": loss.item(), \"Accuracy\": 100 * correct / total})\n",
    "\n",
    "    epoch_train_loss = running_loss / len(train_loader)\n",
    "    epoch_train_accuracy = 100 * correct / total\n",
    "    train_loss_history.append(epoch_train_loss)\n",
    "    train_accuracy_history.append(epoch_train_accuracy)\n",
    "\n",
    "    epoch_duration = time.time() - start_time\n",
    "    print(f\"Epoch [{epoch + 1}/{total_epochs}], Train Loss: {epoch_train_loss:.4f}, Train Accuracy: {epoch_train_accuracy:.2f}%, Duration: {epoch_duration:.2f} seconds\")\n",
    "\n",
    "    scheduler.step(epoch_train_loss)\n",
    "\n",
    "    # Early Stopping\n",
    "    if epoch_train_loss < best_val_loss:\n",
    "        best_val_loss = epoch_train_loss\n",
    "        early_stopping_counter = 0\n",
    "        torch.save(model.state_dict(), '/content/drive/MyDrive/colab_results/best_model10.pth')\n",
    "    else:\n",
    "        early_stopping_counter += 1\n",
    "        if early_stopping_counter >= early_stopping_patience:\n",
    "            print(\"Early stopping triggered.\")\n",
    "            break\n",
    "\n",
    "# Abschliessende Testphase und Speicherung der Trainingshistorie\n",
    "model.eval()\n",
    "test_correct, test_total = 0, 0\n",
    "all_labels, all_predictions = [], []\n",
    "\n",
    "with torch.no_grad():\n",
    "    for images, labels in test_loader:\n",
    "        images, labels = images.to(device), labels.to(device)\n",
    "        outputs = model(images).logits\n",
    "        _, predicted = torch.max(outputs, 1)\n",
    "        test_total += labels.size(0)\n",
    "        test_correct += (predicted == labels).sum().item()\n",
    "        all_labels.extend(labels.cpu().numpy())\n",
    "        all_predictions.extend(predicted.cpu().numpy())\n",
    "\n",
    "test_accuracy = 100 * test_correct / test_total\n",
    "test_precision = precision_score(all_labels, all_predictions, average='macro')\n",
    "test_recall = recall_score(all_labels, all_predictions, average='macro')\n",
    "test_f1_score = f1_score(all_labels, all_predictions, average='macro')\n",
    "\n",
    "print(f\"Test Accuracy after additional training: {test_accuracy:.2f}%\")\n",
    "print(f\"Test Precision: {test_precision:.4f}\")\n",
    "print(f\"Test Recall: {test_recall:.4f}\")\n",
    "print(f\"Test F1-Score: {test_f1_score:.4f}\")\n",
    "\n",
    "# Aktualisierte Trainingshistorie speichern\n",
    "training_history = {\n",
    "    'train_loss': train_loss_history,\n",
    "    'train_accuracy': train_accuracy_history,\n",
    "    'learning_rate': learning_rate_history,\n",
    "    'test_accuracy': test_accuracy,\n",
    "    'test_precision': test_precision,\n",
    "    'test_recall': test_recall,\n",
    "    'test_f1_score': test_f1_score\n",
    "}\n",
    "\n",
    "torch.save(training_history, '/content/drive/MyDrive/colab_results/training_history.pth')\n",
    "print(\"Updated training history saved as 'training_history5.pth' in Google Drive\")"
   ]
  },
  {
   "cell_type": "code",
   "execution_count": null,
   "metadata": {
    "id": "uPUqUnpf-1iv"
   },
   "outputs": [],
   "source": []
  },
  {
   "cell_type": "code",
   "execution_count": null,
   "metadata": {
    "id": "B3dp8CNI-1gV"
   },
   "outputs": [],
   "source": []
  },
  {
   "cell_type": "code",
   "execution_count": null,
   "metadata": {
    "id": "74rNJYge-1cn"
   },
   "outputs": [],
   "source": []
  },
  {
   "cell_type": "code",
   "execution_count": null,
   "metadata": {
    "id": "RsKpNP1l-1UC"
   },
   "outputs": [],
   "source": []
  },
  {
   "cell_type": "code",
   "execution_count": null,
   "metadata": {
    "colab": {
     "base_uri": "https://localhost:8080/"
    },
    "executionInfo": {
     "elapsed": 612,
     "status": "ok",
     "timestamp": 1731607739913,
     "user": {
      "displayName": "Sivanajani Sivakumar",
      "userId": "00272301002448920096"
     },
     "user_tz": -60
    },
    "id": "3lsA03rcBz7N",
    "outputId": "97a4d921-103d-4a34-b6eb-35d4f099cccc"
   },
   "outputs": [
    {
     "name": "stdout",
     "output_type": "stream",
     "text": [
      "Train dataset size: 31761\n",
      "Test dataset size: 7955\n"
     ]
    }
   ],
   "source": [
    "# Bildtransformationen, um die Bilder an das ViT-Modell anzupassen\n",
    "transform = transforms.Compose([\n",
    "    transforms.RandomResizedCrop((224, 224)),\n",
    "    transforms.RandomHorizontalFlip(),\n",
    "    transforms.RandomRotation(15),\n",
    "    transforms.ColorJitter(brightness=0.3, contrast=0.3, saturation=0.3, hue=0.1),\n",
    "    transforms.ToTensor(),\n",
    "    transforms.Normalize([0.5, 0.5, 0.5], [0.5, 0.5, 0.5])\n",
    "])\n",
    "\n",
    "\n",
    "# Laden des Datensatzes\n",
    "train_dataset = datasets.ImageFolder(\"/content/train\", transform=transform)\n",
    "test_dataset = datasets.ImageFolder(\"/content/test\", transform=transform)\n",
    "\n",
    "# DataLoader für Training und Test\n",
    "train_loader = DataLoader(train_dataset, batch_size=32, shuffle=True)\n",
    "test_loader = DataLoader(test_dataset, batch_size=32, shuffle=False)\n",
    "\n",
    "print(f\"Train dataset size: {len(train_dataset)}\")\n",
    "print(f\"Test dataset size: {len(test_dataset)}\")\n"
   ]
  },
  {
   "cell_type": "code",
   "execution_count": null,
   "metadata": {
    "colab": {
     "base_uri": "https://localhost:8080/",
     "height": 949,
     "referenced_widgets": [
      "f362190d729746e1b86f4244093d9463",
      "981dbd9ff1c7465db11d8e27c46ca307",
      "75d5155577814aff9ad32aa7e90917a6",
      "cc3452ab9e1a4fd29128046717a2f5c5",
      "4e28ffdc65604123a773fa645bd10fce",
      "0708f2d6b2234e9184657d72f747545e",
      "ac6627dbe3454645ba81b51f32ed9a06",
      "2c75e670428f4d5fa71cfafe805e1aff",
      "8359071847c24905867b272b66e7509b",
      "5aef6cdea5484ef5a480c21fa4921612",
      "c6620751903f448db470cc8b2bb87bcb",
      "febfbc680a7c4e9c9440479ea7d259b6",
      "1e9e2807e05044c9b1936a9604c20624",
      "f635a39925ee4bcc961273f93d4d844a",
      "7c37bcebe66244a28a6742bfc3598618",
      "1a5d3400b7fe4306a156c6ceb9edbca8",
      "6ea5d6d1b6434c49ab77e1ee14fff043",
      "55b5927773e24e37b15c86b2b001b18a",
      "992a7decfd574849aec6f3f0faca2aa6",
      "aebcc9efed0d4293b47c964c357ff3f1",
      "fe952b77d9c14193b3ed2286bea3ec3a",
      "50fa12428d1749a58888e9a92fc5377f"
     ]
    },
    "collapsed": true,
    "executionInfo": {
     "elapsed": 6464,
     "status": "ok",
     "timestamp": 1731607749804,
     "user": {
      "displayName": "Sivanajani Sivakumar",
      "userId": "00272301002448920096"
     },
     "user_tz": -60
    },
    "id": "aFXmINuyB5Ky",
    "outputId": "2648f572-19d7-458b-9fee-83dda44ddc6b"
   },
   "outputs": [
    {
     "name": "stderr",
     "output_type": "stream",
     "text": [
      "/usr/local/lib/python3.10/dist-packages/huggingface_hub/utils/_auth.py:94: UserWarning: \n",
      "The secret `HF_TOKEN` does not exist in your Colab secrets.\n",
      "To authenticate with the Hugging Face Hub, create a token in your settings tab (https://huggingface.co/settings/tokens), set it as secret in your Google Colab and restart your session.\n",
      "You will be able to reuse this secret in all of your notebooks.\n",
      "Please note that authentication is recommended but still optional to access public models or datasets.\n",
      "  warnings.warn(\n"
     ]
    },
    {
     "data": {
      "application/vnd.jupyter.widget-view+json": {
       "model_id": "f362190d729746e1b86f4244093d9463",
       "version_major": 2,
       "version_minor": 0
      },
      "text/plain": [
       "config.json:   0%|          | 0.00/69.7k [00:00<?, ?B/s]"
      ]
     },
     "metadata": {},
     "output_type": "display_data"
    },
    {
     "data": {
      "application/vnd.jupyter.widget-view+json": {
       "model_id": "febfbc680a7c4e9c9440479ea7d259b6",
       "version_major": 2,
       "version_minor": 0
      },
      "text/plain": [
       "model.safetensors:   0%|          | 0.00/346M [00:00<?, ?B/s]"
      ]
     },
     "metadata": {},
     "output_type": "display_data"
    },
    {
     "name": "stderr",
     "output_type": "stream",
     "text": [
      "Some weights of ViTForImageClassification were not initialized from the model checkpoint at google/vit-base-patch16-224 and are newly initialized because the shapes did not match:\n",
      "- classifier.bias: found shape torch.Size([1000]) in the checkpoint and torch.Size([7]) in the model instantiated\n",
      "- classifier.weight: found shape torch.Size([1000, 768]) in the checkpoint and torch.Size([7, 768]) in the model instantiated\n",
      "You should probably TRAIN this model on a down-stream task to be able to use it for predictions and inference.\n"
     ]
    },
    {
     "data": {
      "text/plain": [
       "ViTForImageClassification(\n",
       "  (vit): ViTModel(\n",
       "    (embeddings): ViTEmbeddings(\n",
       "      (patch_embeddings): ViTPatchEmbeddings(\n",
       "        (projection): Conv2d(3, 768, kernel_size=(16, 16), stride=(16, 16))\n",
       "      )\n",
       "      (dropout): Dropout(p=0.0, inplace=False)\n",
       "    )\n",
       "    (encoder): ViTEncoder(\n",
       "      (layer): ModuleList(\n",
       "        (0-11): 12 x ViTLayer(\n",
       "          (attention): ViTSdpaAttention(\n",
       "            (attention): ViTSdpaSelfAttention(\n",
       "              (query): Linear(in_features=768, out_features=768, bias=True)\n",
       "              (key): Linear(in_features=768, out_features=768, bias=True)\n",
       "              (value): Linear(in_features=768, out_features=768, bias=True)\n",
       "              (dropout): Dropout(p=0.0, inplace=False)\n",
       "            )\n",
       "            (output): ViTSelfOutput(\n",
       "              (dense): Linear(in_features=768, out_features=768, bias=True)\n",
       "              (dropout): Dropout(p=0.0, inplace=False)\n",
       "            )\n",
       "          )\n",
       "          (intermediate): ViTIntermediate(\n",
       "            (dense): Linear(in_features=768, out_features=3072, bias=True)\n",
       "            (intermediate_act_fn): GELUActivation()\n",
       "          )\n",
       "          (output): ViTOutput(\n",
       "            (dense): Linear(in_features=3072, out_features=768, bias=True)\n",
       "            (dropout): Dropout(p=0.0, inplace=False)\n",
       "          )\n",
       "          (layernorm_before): LayerNorm((768,), eps=1e-12, elementwise_affine=True)\n",
       "          (layernorm_after): LayerNorm((768,), eps=1e-12, elementwise_affine=True)\n",
       "        )\n",
       "      )\n",
       "    )\n",
       "    (layernorm): LayerNorm((768,), eps=1e-12, elementwise_affine=True)\n",
       "  )\n",
       "  (classifier): Linear(in_features=768, out_features=7, bias=True)\n",
       ")"
      ]
     },
     "execution_count": 11,
     "metadata": {},
     "output_type": "execute_result"
    }
   ],
   "source": [
    "# Anzahl der Klassen in deinem Datensatz\n",
    "num_classes = len(train_dataset.classes)\n",
    "\n",
    "# Lade das vortrainierte ViT-Modell und ignoriere Grössenunterschiede\n",
    "model = ViTForImageClassification.from_pretrained(\n",
    "    \"google/vit-base-patch16-224\",\n",
    "    num_labels=num_classes,\n",
    "    ignore_mismatched_sizes=True  # Grössenunterschiede ignorieren\n",
    ")\n",
    "model.to(device)"
   ]
  },
  {
   "cell_type": "code",
   "execution_count": null,
   "metadata": {
    "id": "Wg0zxyVmCM6O"
   },
   "outputs": [],
   "source": [
    "# Definiere den Optimizer und die Loss-Funktion\n",
    "optimizer = torch.optim.Adam(model.parameters(), lr=1e-5)\n",
    "criterion = nn.CrossEntropyLoss()\n"
   ]
  },
  {
   "cell_type": "code",
   "execution_count": null,
   "metadata": {
    "colab": {
     "base_uri": "https://localhost:8080/"
    },
    "executionInfo": {
     "elapsed": 487,
     "status": "ok",
     "timestamp": 1731607796283,
     "user": {
      "displayName": "Sivanajani Sivakumar",
      "userId": "00272301002448920096"
     },
     "user_tz": -60
    },
    "id": "wGGnEsbQWLue",
    "outputId": "589184dd-95e8-43cd-befa-4faa0bff42bf"
   },
   "outputs": [
    {
     "name": "stdout",
     "output_type": "stream",
     "text": [
      "Loaded 31761 images from train\n",
      "Class angry: 3995 images (12.6%)\n",
      "Class disgusted: 3488 images (11.0%)\n",
      "Class fearful: 4097 images (12.9%)\n",
      "Class happy: 7215 images (22.7%)\n",
      "Class neutral: 4965 images (15.6%)\n",
      "Class sad: 4830 images (15.2%)\n",
      "Class surprised: 3171 images (10.0%)\n",
      "Loaded 7955 images from test\n",
      "Class angry: 958 images (12.0%)\n",
      "Class disgusted: 888 images (11.2%)\n",
      "Class fearful: 1024 images (12.9%)\n",
      "Class happy: 1774 images (22.3%)\n",
      "Class neutral: 1233 images (15.5%)\n",
      "Class sad: 1247 images (15.7%)\n",
      "Class surprised: 831 images (10.4%)\n"
     ]
    }
   ],
   "source": [
    "# Anzeige der Anzahl der Bilder pro Klasse im Trainings- und Testdatensatz\n",
    "def display_class_distribution(dataset, dataset_name=\"Dataset\"):\n",
    "    class_counts = {class_name: 0 for class_name in dataset.classes}\n",
    "    for _, label in dataset.samples:\n",
    "        class_counts[dataset.classes[label]] += 1\n",
    "\n",
    "    print(f\"Loaded {len(dataset)} images from {dataset_name}\")\n",
    "    for class_name, count in class_counts.items():\n",
    "        percentage = (count / len(dataset)) * 100\n",
    "        print(f\"Class {class_name}: {count} images ({percentage:.1f}%)\")\n",
    "\n",
    "# Anzeige für den Trainings- und Testdatensatz\n",
    "display_class_distribution(train_dataset, \"train\")\n",
    "display_class_distribution(test_dataset, \"test\")"
   ]
  },
  {
   "cell_type": "code",
   "execution_count": null,
   "metadata": {
    "colab": {
     "base_uri": "https://localhost:8080/"
    },
    "executionInfo": {
     "elapsed": 1718017,
     "status": "ok",
     "timestamp": 1731215842235,
     "user": {
      "displayName": "Sivanajani Sivakumar",
      "userId": "00272301002448920096"
     },
     "user_tz": -60
    },
    "id": "k7Bc0pciDJl_",
    "outputId": "88ccbb18-2073-4a2a-b805-7614ddbd1c9d"
   },
   "outputs": [
    {
     "name": "stdout",
     "output_type": "stream",
     "text": [
      "Epoch [1/5], Loss: 1.3546, Accuracy: 48.81%, Duration: 1171.73 seconds\n",
      "Epoch [2/5], Loss: 1.1344, Accuracy: 57.23%, Duration: 1176.35 seconds\n",
      "Epoch [3/5], Loss: 1.0679, Accuracy: 60.17%, Duration: 1174.93 seconds\n",
      "Epoch [4/5], Loss: 1.0219, Accuracy: 61.75%, Duration: 1173.65 seconds\n",
      "Epoch [5/5], Loss: 0.9954, Accuracy: 63.04%, Duration: 1173.42 seconds\n"
     ]
    }
   ],
   "source": [
    "import time\n",
    "\n",
    "# Anzahl der Epochen\n",
    "epochs = 5\n",
    "\n",
    "for epoch in range(epochs):\n",
    "    start_time = time.time()\n",
    "    model.train()\n",
    "    running_loss = 0.0\n",
    "    correct = 0\n",
    "    total = 0\n",
    "\n",
    "    for images, labels in train_loader:\n",
    "        images, labels = images.to(device), labels.to(device)\n",
    "\n",
    "        # Vorwärtsdurchlauf\n",
    "        outputs = model(images).logits\n",
    "        loss = criterion(outputs, labels)\n",
    "\n",
    "        # Rückwärtsdurchlauf und Optimierung\n",
    "        optimizer.zero_grad()\n",
    "        loss.backward()\n",
    "        optimizer.step()\n",
    "\n",
    "        running_loss += loss.item()\n",
    "\n",
    "        # Berechnung der Genauigkeit\n",
    "        _, predicted = torch.max(outputs, 1)\n",
    "        total += labels.size(0)\n",
    "        correct += (predicted == labels).sum().item()\n",
    "\n",
    "    # Durchschnittlicher Verlust und Genauigkeit\n",
    "    epoch_loss = running_loss / len(train_loader)\n",
    "    epoch_accuracy = 100 * correct / total\n",
    "    epoch_duration = time.time() - start_time\n",
    "\n",
    "    print(f\"Epoch [{epoch + 1}/{epochs}], Loss: {epoch_loss:.4f}, \"\n",
    "          f\"Accuracy: {epoch_accuracy:.2f}%, Duration: {epoch_duration:.2f} seconds\")\n"
   ]
  },
  {
   "cell_type": "code",
   "execution_count": null,
   "metadata": {
    "id": "9ZnxLOCfF4TS"
   },
   "outputs": [],
   "source": [
    "import time\n",
    "\n",
    "# Anzahl der Epochen\n",
    "epochs = 5\n",
    "\n",
    "for epoch in range(epochs):\n",
    "    start_time = time.time()\n",
    "    model.train()\n",
    "    running_loss = 0.0\n",
    "    correct = 0\n",
    "    total = 0\n",
    "\n",
    "    for images, labels in train_loader:\n",
    "        images, labels = images.to(device), labels.to(device)\n",
    "\n",
    "        # Vorwärtsdurchlauf\n",
    "        outputs = model(images).logits\n",
    "        loss = criterion(outputs, labels)\n",
    "\n",
    "        # Rückwärtsdurchlauf und Optimierung\n",
    "        optimizer.zero_grad()\n",
    "        loss.backward()\n",
    "        optimizer.step()\n",
    "\n",
    "        running_loss += loss.item()\n",
    "\n",
    "        # Berechnung der Genauigkeit\n",
    "        _, predicted = torch.max(outputs, 1)\n",
    "        total += labels.size(0)\n",
    "        correct += (predicted == labels).sum().item()\n",
    "\n",
    "    # Durchschnittlicher Verlust und Genauigkeit\n",
    "    epoch_loss = running_loss / len(train_loader)\n",
    "    epoch_accuracy = 100 * correct / total\n",
    "    epoch_duration = time.time() - start_time\n",
    "\n",
    "    print(f\"Epoch [{epoch + 1}/{epochs}], Loss: {epoch_loss:.4f}, \"\n",
    "          f\"Accuracy: {epoch_accuracy:.2f}%, Duration: {epoch_duration:.2f} seconds\")\n"
   ]
  },
  {
   "cell_type": "code",
   "execution_count": null,
   "metadata": {
    "colab": {
     "base_uri": "https://localhost:8080/"
    },
    "executionInfo": {
     "elapsed": 339763,
     "status": "ok",
     "timestamp": 1731081871192,
     "user": {
      "displayName": "Sivanajani Sivakumar",
      "userId": "00272301002448920096"
     },
     "user_tz": -60
    },
    "id": "hrPgK2EZf-SI",
    "outputId": "ebfc959b-b819-4e45-b599-f9ab81b7d54f"
   },
   "outputs": [
    {
     "name": "stderr",
     "output_type": "stream",
     "text": [
      "<ipython-input-62-610866396df0>:15: FutureWarning: `torch.cuda.amp.GradScaler(args...)` is deprecated. Please use `torch.amp.GradScaler('cuda', args...)` instead.\n",
      "  scaler = GradScaler()\n",
      "<ipython-input-62-610866396df0>:31: FutureWarning: `torch.cuda.amp.autocast(args...)` is deprecated. Please use `torch.amp.autocast('cuda', args...)` instead.\n",
      "  with autocast():\n"
     ]
    },
    {
     "name": "stdout",
     "output_type": "stream",
     "text": [
      "Epoch [1/30], Loss: 0.9107, Accuracy: 67.00%, Duration: 12.39 seconds\n",
      "Epoch [2/30], Loss: 0.9270, Accuracy: 66.43%, Duration: 10.97 seconds\n",
      "Epoch [3/30], Loss: 0.9025, Accuracy: 67.57%, Duration: 12.02 seconds\n",
      "Epoch [4/30], Loss: 0.8899, Accuracy: 68.29%, Duration: 11.16 seconds\n",
      "Epoch [5/30], Loss: 0.9490, Accuracy: 66.36%, Duration: 10.65 seconds\n",
      "Epoch [6/30], Loss: 0.9346, Accuracy: 66.21%, Duration: 12.11 seconds\n",
      "Epoch [7/30], Loss: 0.9362, Accuracy: 66.43%, Duration: 11.05 seconds\n",
      "Epoch [8/30], Loss: 0.9530, Accuracy: 66.29%, Duration: 11.77 seconds\n",
      "Epoch [9/30], Loss: 0.9520, Accuracy: 65.29%, Duration: 11.45 seconds\n",
      "Epoch [10/30], Loss: 0.8779, Accuracy: 67.50%, Duration: 11.29 seconds\n",
      "Epoch [11/30], Loss: 0.9006, Accuracy: 68.29%, Duration: 10.72 seconds\n",
      "Epoch [12/30], Loss: 0.8973, Accuracy: 67.50%, Duration: 12.08 seconds\n",
      "Epoch [13/30], Loss: 0.8926, Accuracy: 67.43%, Duration: 9.72 seconds\n",
      "Epoch [14/30], Loss: 0.9722, Accuracy: 64.57%, Duration: 12.89 seconds\n",
      "Epoch [15/30], Loss: 0.9186, Accuracy: 66.50%, Duration: 9.80 seconds\n",
      "Epoch [16/30], Loss: 0.8960, Accuracy: 68.29%, Duration: 12.41 seconds\n",
      "Epoch [17/30], Loss: 0.9028, Accuracy: 68.36%, Duration: 10.61 seconds\n",
      "Epoch [18/30], Loss: 0.9226, Accuracy: 67.36%, Duration: 12.43 seconds\n",
      "Epoch [19/30], Loss: 0.9237, Accuracy: 66.14%, Duration: 10.38 seconds\n",
      "Epoch [20/30], Loss: 0.9225, Accuracy: 67.14%, Duration: 11.33 seconds\n",
      "Epoch [21/30], Loss: 0.9260, Accuracy: 65.71%, Duration: 11.49 seconds\n",
      "Epoch [22/30], Loss: 0.9162, Accuracy: 67.07%, Duration: 10.83 seconds\n",
      "Epoch [23/30], Loss: 0.8725, Accuracy: 69.00%, Duration: 11.87 seconds\n",
      "Epoch [24/30], Loss: 0.8921, Accuracy: 68.00%, Duration: 10.51 seconds\n",
      "Epoch [25/30], Loss: 0.9001, Accuracy: 67.93%, Duration: 12.26 seconds\n",
      "Epoch [26/30], Loss: 0.8917, Accuracy: 67.71%, Duration: 10.28 seconds\n",
      "Epoch [27/30], Loss: 0.9734, Accuracy: 64.00%, Duration: 11.89 seconds\n",
      "Epoch [28/30], Loss: 0.9287, Accuracy: 66.86%, Duration: 10.29 seconds\n",
      "Epoch [29/30], Loss: 0.9634, Accuracy: 63.43%, Duration: 12.90 seconds\n",
      "Epoch [30/30], Loss: 0.8641, Accuracy: 69.00%, Duration: 9.77 seconds\n"
     ]
    }
   ],
   "source": [
    "import time\n",
    "from torch.optim.lr_scheduler import CosineAnnealingLR\n",
    "from torch.cuda.amp import GradScaler, autocast\n",
    "\n",
    "# Definiere den Optimizer nur für die trainierbaren Parameter\n",
    "optimizer = torch.optim.AdamW([\n",
    "    {\"params\": model.vit.encoder.layer[-1].parameters(), \"lr\": 5e-6},  # Langsames Lernen für den letzten Layer\n",
    "    {\"params\": model.classifier.parameters(), \"lr\": 1e-4}  # Höhere Lernrate für den Klassifikations-Head\n",
    "])\n",
    "\n",
    "# Scheduler für die Lernraten-Anpassung\n",
    "scheduler = CosineAnnealingLR(optimizer, T_max=10)\n",
    "\n",
    "# Mixed Precision Training: GradScaler\n",
    "scaler = GradScaler()\n",
    "\n",
    "# Anzahl der Epochen\n",
    "epochs = 30\n",
    "\n",
    "for epoch in range(epochs):\n",
    "    start_time = time.time()\n",
    "    model.train()\n",
    "    running_loss = 0.0\n",
    "    correct = 0\n",
    "    total = 0\n",
    "\n",
    "    for images, labels in train_loader:\n",
    "        images, labels = images.to(device), labels.to(device)\n",
    "\n",
    "        # Mixed Precision Training mit autocast\n",
    "        with autocast():\n",
    "            outputs = model(images).logits\n",
    "            loss = criterion(outputs, labels)\n",
    "\n",
    "        # Rückwärtsdurchlauf und Optimierung mit Mixed Precision\n",
    "        optimizer.zero_grad()\n",
    "        scaler.scale(loss).backward()\n",
    "        scaler.step(optimizer)\n",
    "        scaler.update()\n",
    "\n",
    "        running_loss += loss.item()\n",
    "\n",
    "        # Berechnung der Genauigkeit\n",
    "        _, predicted = torch.max(outputs, 1)\n",
    "        total += labels.size(0)\n",
    "        correct += (predicted == labels).sum().item()\n",
    "\n",
    "    # Durchschnittlicher Verlust und Genauigkeit\n",
    "    epoch_loss = running_loss / len(train_loader)\n",
    "    epoch_accuracy = 100 * correct / total\n",
    "    epoch_duration = time.time() - start_time\n",
    "\n",
    "    print(f\"Epoch [{epoch + 1}/{epochs}], Loss: {epoch_loss:.4f}, \"\n",
    "          f\"Accuracy: {epoch_accuracy:.2f}%, Duration: {epoch_duration:.2f} seconds\")\n",
    "\n",
    "    # Scheduler nach jeder Epoche anpassen\n",
    "    scheduler.step()\n"
   ]
  },
  {
   "cell_type": "code",
   "execution_count": null,
   "metadata": {
    "colab": {
     "base_uri": "https://localhost:8080/"
    },
    "executionInfo": {
     "elapsed": 582631,
     "status": "ok",
     "timestamp": 1731082529569,
     "user": {
      "displayName": "Sivanajani Sivakumar",
      "userId": "00272301002448920096"
     },
     "user_tz": -60
    },
    "id": "0Zr86us3hioJ",
    "outputId": "7c3013db-f7ee-4bd0-e530-67e3edc26a4d"
   },
   "outputs": [
    {
     "name": "stderr",
     "output_type": "stream",
     "text": [
      "<ipython-input-67-75bacf3e1a2c>:15: FutureWarning: `torch.cuda.amp.GradScaler(args...)` is deprecated. Please use `torch.amp.GradScaler('cuda', args...)` instead.\n",
      "  scaler = GradScaler()\n",
      "<ipython-input-67-75bacf3e1a2c>:31: FutureWarning: `torch.cuda.amp.autocast(args...)` is deprecated. Please use `torch.amp.autocast('cuda', args...)` instead.\n",
      "  with autocast():\n"
     ]
    },
    {
     "name": "stdout",
     "output_type": "stream",
     "text": [
      "Epoch [1/50], Loss: 0.8808, Accuracy: 67.57%, Duration: 13.57 seconds\n",
      "Epoch [2/50], Loss: 0.8758, Accuracy: 68.43%, Duration: 11.28 seconds\n",
      "Epoch [3/50], Loss: 0.8982, Accuracy: 66.86%, Duration: 10.90 seconds\n",
      "Epoch [4/50], Loss: 0.8975, Accuracy: 67.36%, Duration: 11.75 seconds\n",
      "Epoch [5/50], Loss: 0.9419, Accuracy: 66.07%, Duration: 9.94 seconds\n",
      "Epoch [6/50], Loss: 0.8989, Accuracy: 67.64%, Duration: 13.67 seconds\n",
      "Epoch [7/50], Loss: 0.8675, Accuracy: 69.14%, Duration: 10.18 seconds\n",
      "Epoch [8/50], Loss: 0.8902, Accuracy: 68.21%, Duration: 12.25 seconds\n",
      "Epoch [9/50], Loss: 0.9304, Accuracy: 67.14%, Duration: 12.44 seconds\n",
      "Epoch [10/50], Loss: 0.8849, Accuracy: 68.50%, Duration: 12.09 seconds\n",
      "Epoch [11/50], Loss: 0.8952, Accuracy: 67.07%, Duration: 10.70 seconds\n",
      "Epoch [12/50], Loss: 0.8959, Accuracy: 67.57%, Duration: 11.49 seconds\n",
      "Epoch [13/50], Loss: 0.8839, Accuracy: 68.43%, Duration: 11.92 seconds\n",
      "Epoch [14/50], Loss: 0.8435, Accuracy: 69.57%, Duration: 9.86 seconds\n",
      "Epoch [15/50], Loss: 0.9064, Accuracy: 67.50%, Duration: 13.16 seconds\n",
      "Epoch [16/50], Loss: 0.9249, Accuracy: 67.43%, Duration: 10.10 seconds\n",
      "Epoch [17/50], Loss: 0.9083, Accuracy: 67.36%, Duration: 12.94 seconds\n",
      "Epoch [18/50], Loss: 0.8958, Accuracy: 67.86%, Duration: 9.87 seconds\n",
      "Epoch [19/50], Loss: 0.9036, Accuracy: 66.14%, Duration: 15.18 seconds\n",
      "Epoch [20/50], Loss: 0.8703, Accuracy: 67.93%, Duration: 10.09 seconds\n",
      "Epoch [21/50], Loss: 0.8987, Accuracy: 67.64%, Duration: 12.90 seconds\n",
      "Epoch [22/50], Loss: 0.9087, Accuracy: 67.79%, Duration: 10.11 seconds\n",
      "Epoch [23/50], Loss: 0.8884, Accuracy: 67.21%, Duration: 12.84 seconds\n",
      "Epoch [24/50], Loss: 0.8782, Accuracy: 67.86%, Duration: 10.22 seconds\n",
      "Epoch [25/50], Loss: 0.8872, Accuracy: 67.79%, Duration: 12.09 seconds\n",
      "Epoch [26/50], Loss: 0.8811, Accuracy: 67.64%, Duration: 10.05 seconds\n",
      "Epoch [27/50], Loss: 0.9111, Accuracy: 67.57%, Duration: 11.64 seconds\n",
      "Epoch [28/50], Loss: 0.8860, Accuracy: 68.29%, Duration: 12.12 seconds\n",
      "Epoch [29/50], Loss: 0.8832, Accuracy: 67.79%, Duration: 10.44 seconds\n",
      "Epoch [30/50], Loss: 0.9171, Accuracy: 68.07%, Duration: 12.57 seconds\n",
      "Epoch [31/50], Loss: 0.9073, Accuracy: 66.29%, Duration: 10.68 seconds\n",
      "Epoch [32/50], Loss: 0.8759, Accuracy: 68.86%, Duration: 12.09 seconds\n",
      "Epoch [33/50], Loss: 0.8766, Accuracy: 68.36%, Duration: 11.22 seconds\n",
      "Epoch [34/50], Loss: 0.8601, Accuracy: 69.71%, Duration: 11.85 seconds\n",
      "Epoch [35/50], Loss: 0.8727, Accuracy: 67.93%, Duration: 10.92 seconds\n",
      "Epoch [36/50], Loss: 0.8751, Accuracy: 69.00%, Duration: 12.19 seconds\n",
      "Epoch [37/50], Loss: 0.8663, Accuracy: 67.64%, Duration: 9.89 seconds\n",
      "Epoch [38/50], Loss: 0.8572, Accuracy: 68.64%, Duration: 13.27 seconds\n",
      "Epoch [39/50], Loss: 0.8410, Accuracy: 69.93%, Duration: 10.01 seconds\n",
      "Epoch [40/50], Loss: 0.8950, Accuracy: 68.00%, Duration: 12.97 seconds\n",
      "Epoch [41/50], Loss: 0.8610, Accuracy: 68.36%, Duration: 10.52 seconds\n",
      "Epoch [42/50], Loss: 0.9044, Accuracy: 66.21%, Duration: 12.56 seconds\n",
      "Epoch [43/50], Loss: 0.8647, Accuracy: 68.36%, Duration: 10.45 seconds\n",
      "Epoch [44/50], Loss: 0.8690, Accuracy: 67.79%, Duration: 12.59 seconds\n",
      "Epoch [45/50], Loss: 0.8641, Accuracy: 69.00%, Duration: 10.80 seconds\n",
      "Epoch [46/50], Loss: 0.8782, Accuracy: 67.86%, Duration: 12.17 seconds\n",
      "Epoch [47/50], Loss: 0.8775, Accuracy: 68.71%, Duration: 11.21 seconds\n",
      "Epoch [48/50], Loss: 0.8756, Accuracy: 68.00%, Duration: 11.95 seconds\n",
      "Epoch [49/50], Loss: 0.8659, Accuracy: 69.14%, Duration: 12.58 seconds\n",
      "Epoch [50/50], Loss: 0.8646, Accuracy: 68.57%, Duration: 14.00 seconds\n"
     ]
    }
   ],
   "source": [
    "import time\n",
    "from torch.optim.lr_scheduler import CosineAnnealingLR\n",
    "from torch.cuda.amp import GradScaler, autocast\n",
    "\n",
    "# Definiere den Optimizer nur für die trainierbaren Parameter\n",
    "optimizer = torch.optim.AdamW([\n",
    "    {\"params\": model.vit.encoder.layer[-1].parameters(), \"lr\": 5e-6},  # Langsames Lernen für den letzten Layer\n",
    "    {\"params\": model.classifier.parameters(), \"lr\": 1e-4}  # Höhere Lernrate für den Klassifikations-Head\n",
    "])\n",
    "\n",
    "# Scheduler für die Lernraten-Anpassung\n",
    "scheduler = CosineAnnealingLR(optimizer, T_max=10)\n",
    "\n",
    "# Mixed Precision Training: GradScaler\n",
    "scaler = GradScaler()\n",
    "\n",
    "# Anzahl der Epochen\n",
    "epochs = 50\n",
    "\n",
    "for epoch in range(epochs):\n",
    "    start_time = time.time()\n",
    "    model.train()\n",
    "    running_loss = 0.0\n",
    "    correct = 0\n",
    "    total = 0\n",
    "\n",
    "    for images, labels in train_loader:\n",
    "        images, labels = images.to(device), labels.to(device)\n",
    "\n",
    "        # Mixed Precision Training mit autocast\n",
    "        with autocast():\n",
    "            outputs = model(images).logits\n",
    "            loss = criterion(outputs, labels)\n",
    "\n",
    "        # Rückwärtsdurchlauf und Optimierung mit Mixed Precision\n",
    "        optimizer.zero_grad()\n",
    "        scaler.scale(loss).backward()\n",
    "        scaler.step(optimizer)\n",
    "        scaler.update()\n",
    "\n",
    "        running_loss += loss.item()\n",
    "\n",
    "        # Berechnung der Genauigkeit\n",
    "        _, predicted = torch.max(outputs, 1)\n",
    "        total += labels.size(0)\n",
    "        correct += (predicted == labels).sum().item()\n",
    "\n",
    "    # Durchschnittlicher Verlust und Genauigkeit\n",
    "    epoch_loss = running_loss / len(train_loader)\n",
    "    epoch_accuracy = 100 * correct / total\n",
    "    epoch_duration = time.time() - start_time\n",
    "\n",
    "    print(f\"Epoch [{epoch + 1}/{epochs}], Loss: {epoch_loss:.4f}, \"\n",
    "          f\"Accuracy: {epoch_accuracy:.2f}%, Duration: {epoch_duration:.2f} seconds\")\n",
    "\n",
    "    # Scheduler nach jeder Epoche anpassen\n",
    "    scheduler.step()\n"
   ]
  },
  {
   "cell_type": "code",
   "execution_count": null,
   "metadata": {
    "colab": {
     "base_uri": "https://localhost:8080/"
    },
    "executionInfo": {
     "elapsed": 1526009,
     "status": "ok",
     "timestamp": 1731084515955,
     "user": {
      "displayName": "Sivanajani Sivakumar",
      "userId": "00272301002448920096"
     },
     "user_tz": -60
    },
    "id": "Iea2WrFRk-9k",
    "outputId": "b396595c-6406-4073-84c0-c750313f77a7"
   },
   "outputs": [
    {
     "name": "stdout",
     "output_type": "stream",
     "text": [
      "Epoch [1/50], Loss: 1.5988, Accuracy: 37.86%, Duration: 20.18 seconds\n",
      "Validation Loss: 1.6093, Validation Accuracy: 38.21%\n",
      "Epoch [2/50], Loss: 1.5522, Accuracy: 39.79%, Duration: 19.64 seconds\n",
      "Validation Loss: 1.5230, Validation Accuracy: 41.79%\n",
      "Epoch [3/50], Loss: 1.5088, Accuracy: 41.93%, Duration: 19.50 seconds\n",
      "Validation Loss: 1.5107, Validation Accuracy: 43.93%\n",
      "Epoch [4/50], Loss: 1.4792, Accuracy: 43.43%, Duration: 19.98 seconds\n",
      "Validation Loss: 1.5031, Validation Accuracy: 46.43%\n",
      "Epoch [5/50], Loss: 1.4118, Accuracy: 48.29%, Duration: 18.88 seconds\n",
      "Validation Loss: 1.5835, Validation Accuracy: 38.57%\n",
      "Epoch [6/50], Loss: 1.4119, Accuracy: 46.93%, Duration: 18.75 seconds\n",
      "Validation Loss: 1.5221, Validation Accuracy: 38.93%\n",
      "Epoch [7/50], Loss: 1.3724, Accuracy: 47.14%, Duration: 19.35 seconds\n",
      "Validation Loss: 1.4905, Validation Accuracy: 45.00%\n",
      "Epoch [8/50], Loss: 1.3138, Accuracy: 49.93%, Duration: 19.49 seconds\n",
      "Validation Loss: 1.4578, Validation Accuracy: 46.79%\n",
      "Epoch [9/50], Loss: 1.3318, Accuracy: 50.21%, Duration: 20.40 seconds\n",
      "Validation Loss: 1.6135, Validation Accuracy: 40.71%\n",
      "Epoch [10/50], Loss: 1.2850, Accuracy: 51.50%, Duration: 19.45 seconds\n",
      "Validation Loss: 1.4469, Validation Accuracy: 47.14%\n",
      "Epoch [11/50], Loss: 1.2750, Accuracy: 52.29%, Duration: 18.84 seconds\n",
      "Validation Loss: 1.4438, Validation Accuracy: 47.50%\n",
      "Epoch [12/50], Loss: 1.2957, Accuracy: 52.43%, Duration: 18.74 seconds\n",
      "Validation Loss: 1.5284, Validation Accuracy: 45.71%\n",
      "Epoch [13/50], Loss: 1.2488, Accuracy: 52.86%, Duration: 18.80 seconds\n",
      "Validation Loss: 1.4387, Validation Accuracy: 48.93%\n",
      "Epoch [14/50], Loss: 1.1914, Accuracy: 56.57%, Duration: 19.21 seconds\n",
      "Validation Loss: 1.4362, Validation Accuracy: 45.71%\n",
      "Epoch [15/50], Loss: 1.1859, Accuracy: 54.43%, Duration: 19.35 seconds\n",
      "Validation Loss: 1.4490, Validation Accuracy: 45.00%\n",
      "Epoch [16/50], Loss: 1.1755, Accuracy: 57.14%, Duration: 19.42 seconds\n",
      "Validation Loss: 1.6138, Validation Accuracy: 39.64%\n",
      "Epoch [17/50], Loss: 1.1996, Accuracy: 55.21%, Duration: 18.95 seconds\n",
      "Validation Loss: 1.5182, Validation Accuracy: 46.43%\n",
      "Epoch [18/50], Loss: 1.1585, Accuracy: 56.29%, Duration: 18.89 seconds\n",
      "Validation Loss: 1.5110, Validation Accuracy: 47.14%\n",
      "Epoch [19/50], Loss: 1.0818, Accuracy: 59.71%, Duration: 18.67 seconds\n",
      "Validation Loss: 1.5506, Validation Accuracy: 41.43%\n",
      "Epoch [20/50], Loss: 1.0419, Accuracy: 61.71%, Duration: 18.74 seconds\n",
      "Validation Loss: 1.5210, Validation Accuracy: 43.93%\n",
      "Epoch [21/50], Loss: 1.0274, Accuracy: 62.64%, Duration: 19.08 seconds\n",
      "Validation Loss: 1.5470, Validation Accuracy: 47.14%\n",
      "Epoch [22/50], Loss: 1.0605, Accuracy: 60.50%, Duration: 19.35 seconds\n",
      "Validation Loss: 1.5315, Validation Accuracy: 42.50%\n",
      "Epoch [23/50], Loss: 1.0214, Accuracy: 62.71%, Duration: 19.16 seconds\n",
      "Validation Loss: 1.5327, Validation Accuracy: 42.86%\n",
      "Epoch [24/50], Loss: 1.0566, Accuracy: 62.50%, Duration: 18.74 seconds\n",
      "Validation Loss: 1.5089, Validation Accuracy: 46.43%\n",
      "Epoch [25/50], Loss: 1.0651, Accuracy: 59.71%, Duration: 18.70 seconds\n",
      "Validation Loss: 1.4447, Validation Accuracy: 45.71%\n",
      "Epoch [26/50], Loss: 1.0262, Accuracy: 64.43%, Duration: 18.69 seconds\n",
      "Validation Loss: 1.4491, Validation Accuracy: 46.43%\n",
      "Epoch [27/50], Loss: 1.0326, Accuracy: 63.07%, Duration: 18.69 seconds\n",
      "Validation Loss: 1.4735, Validation Accuracy: 45.71%\n",
      "Epoch [28/50], Loss: 1.0377, Accuracy: 63.29%, Duration: 19.23 seconds\n",
      "Validation Loss: 1.5125, Validation Accuracy: 45.36%\n",
      "Epoch [29/50], Loss: 1.0358, Accuracy: 61.36%, Duration: 19.31 seconds\n",
      "Validation Loss: 1.5394, Validation Accuracy: 45.71%\n",
      "Epoch [30/50], Loss: 1.0488, Accuracy: 60.93%, Duration: 18.98 seconds\n",
      "Validation Loss: 1.4978, Validation Accuracy: 49.29%\n",
      "Epoch [31/50], Loss: 1.0401, Accuracy: 61.86%, Duration: 18.87 seconds\n",
      "Validation Loss: 1.5425, Validation Accuracy: 43.21%\n",
      "Epoch [32/50], Loss: 1.0512, Accuracy: 60.00%, Duration: 18.78 seconds\n",
      "Validation Loss: 1.5594, Validation Accuracy: 44.64%\n",
      "Epoch [33/50], Loss: 1.0899, Accuracy: 59.64%, Duration: 18.85 seconds\n",
      "Validation Loss: 1.5322, Validation Accuracy: 44.29%\n",
      "Epoch [34/50], Loss: 0.9854, Accuracy: 64.50%, Duration: 19.16 seconds\n",
      "Validation Loss: 1.5070, Validation Accuracy: 45.00%\n",
      "Epoch [35/50], Loss: 1.0437, Accuracy: 61.14%, Duration: 19.47 seconds\n",
      "Validation Loss: 1.5018, Validation Accuracy: 45.36%\n",
      "Epoch [36/50], Loss: 1.0420, Accuracy: 61.71%, Duration: 19.02 seconds\n",
      "Validation Loss: 1.4418, Validation Accuracy: 47.14%\n",
      "Epoch [37/50], Loss: 1.0556, Accuracy: 61.71%, Duration: 18.86 seconds\n",
      "Validation Loss: 1.4437, Validation Accuracy: 50.00%\n",
      "Epoch [38/50], Loss: 1.0214, Accuracy: 63.21%, Duration: 18.78 seconds\n",
      "Validation Loss: 1.4893, Validation Accuracy: 43.57%\n",
      "Epoch [39/50], Loss: 1.0751, Accuracy: 60.64%, Duration: 19.63 seconds\n",
      "Validation Loss: 1.4599, Validation Accuracy: 47.86%\n",
      "Epoch [40/50], Loss: 1.0289, Accuracy: 62.71%, Duration: 22.77 seconds\n",
      "Validation Loss: 1.4739, Validation Accuracy: 47.50%\n",
      "Epoch [41/50], Loss: 1.0541, Accuracy: 61.43%, Duration: 19.21 seconds\n",
      "Validation Loss: 1.5357, Validation Accuracy: 46.79%\n",
      "Epoch [42/50], Loss: 1.0402, Accuracy: 61.86%, Duration: 18.85 seconds\n",
      "Validation Loss: 1.4079, Validation Accuracy: 48.21%\n",
      "Epoch [43/50], Loss: 1.0548, Accuracy: 61.86%, Duration: 18.67 seconds\n",
      "Validation Loss: 1.5517, Validation Accuracy: 42.14%\n",
      "Epoch [44/50], Loss: 1.0609, Accuracy: 62.00%, Duration: 18.93 seconds\n",
      "Validation Loss: 1.5671, Validation Accuracy: 41.79%\n",
      "Epoch [45/50], Loss: 1.0517, Accuracy: 61.79%, Duration: 19.44 seconds\n",
      "Validation Loss: 1.4367, Validation Accuracy: 50.71%\n",
      "Epoch [46/50], Loss: 1.0228, Accuracy: 62.36%, Duration: 19.50 seconds\n",
      "Validation Loss: 1.4436, Validation Accuracy: 47.50%\n",
      "Epoch [47/50], Loss: 1.0457, Accuracy: 62.36%, Duration: 19.11 seconds\n",
      "Validation Loss: 1.4498, Validation Accuracy: 42.50%\n",
      "Epoch [48/50], Loss: 1.0166, Accuracy: 62.64%, Duration: 18.91 seconds\n",
      "Validation Loss: 1.3954, Validation Accuracy: 49.64%\n",
      "Epoch [49/50], Loss: 1.0419, Accuracy: 62.64%, Duration: 19.78 seconds\n",
      "Validation Loss: 1.4149, Validation Accuracy: 48.57%\n",
      "Epoch [50/50], Loss: 1.0155, Accuracy: 63.00%, Duration: 18.87 seconds\n",
      "Validation Loss: 1.4043, Validation Accuracy: 43.93%\n"
     ]
    }
   ],
   "source": [
    "import time\n",
    "from torch.optim.lr_scheduler import ReduceLROnPlateau\n",
    "from torch.amp import GradScaler, autocast  # Aktualisierte Import-Befehle\n",
    "\n",
    "# Definiere den Optimizer nur für die trainierbaren Parameter\n",
    "optimizer = torch.optim.AdamW([\n",
    "    {\"params\": model.vit.encoder.layer[-1].parameters(), \"lr\": 5e-5},  # Höhere Lernrate für den letzten Layer\n",
    "    {\"params\": model.classifier.parameters(), \"lr\": 5e-4}  # Höhere Lernrate für den Klassifikations-Head\n",
    "])\n",
    "\n",
    "# Scheduler für die Lernraten-Anpassung basierend auf Validierungsverlust\n",
    "scheduler = ReduceLROnPlateau(optimizer, mode='min', factor=0.1, patience=3, verbose=True)\n",
    "\n",
    "# Mixed Precision Training: GradScaler\n",
    "scaler = GradScaler('cuda')  # Aktualisierung für FutureWarning\n",
    "\n",
    "# Anzahl der Epochen\n",
    "epochs = 50\n",
    "\n",
    "for epoch in range(epochs):\n",
    "    start_time = time.time()\n",
    "    model.train()\n",
    "    running_loss = 0.0\n",
    "    correct = 0\n",
    "    total = 0\n",
    "\n",
    "    for images, labels in train_loader:\n",
    "        images, labels = images.to(device), labels.to(device)\n",
    "\n",
    "        # Mixed Precision Training mit autocast\n",
    "        with autocast('cuda'):  # Aktualisierung für FutureWarning\n",
    "            outputs = model(images).logits\n",
    "            loss = criterion(outputs, labels)\n",
    "\n",
    "        # Rückwärtsdurchlauf und Optimierung mit Mixed Precision\n",
    "        optimizer.zero_grad()\n",
    "        scaler.scale(loss).backward()\n",
    "        scaler.step(optimizer)\n",
    "        scaler.update()\n",
    "\n",
    "        running_loss += loss.item()\n",
    "\n",
    "        # Berechnung der Genauigkeit\n",
    "        _, predicted = torch.max(outputs, 1)\n",
    "        total += labels.size(0)\n",
    "        correct += (predicted == labels).sum().item()\n",
    "\n",
    "    # Durchschnittlicher Trainingsverlust und Genauigkeit\n",
    "    epoch_loss = running_loss / len(train_loader)\n",
    "    epoch_accuracy = 100 * correct / total\n",
    "    epoch_duration = time.time() - start_time\n",
    "\n",
    "    print(f\"Epoch [{epoch + 1}/{epochs}], Loss: {epoch_loss:.4f}, \"\n",
    "          f\"Accuracy: {epoch_accuracy:.2f}%, Duration: {epoch_duration:.2f} seconds\")\n",
    "\n",
    "    # Evaluation auf dem Validierungsdatensatz\n",
    "    model.eval()\n",
    "    val_loss = 0.0\n",
    "    correct = 0\n",
    "    total = 0\n",
    "\n",
    "    with torch.no_grad():\n",
    "        for images, labels in test_loader:\n",
    "            images, labels = images.to(device), labels.to(device)\n",
    "            outputs = model(images).logits\n",
    "            loss = criterion(outputs, labels)\n",
    "            val_loss += loss.item()\n",
    "\n",
    "            _, predicted = torch.max(outputs, 1)\n",
    "            total += labels.size(0)\n",
    "            correct += (predicted == labels).sum().item()\n",
    "\n",
    "    # Durchschnittlicher Validierungsverlust und Genauigkeit\n",
    "    val_loss /= len(test_loader)\n",
    "    val_accuracy = 100 * correct / total\n",
    "\n",
    "    print(f\"Validation Loss: {val_loss:.4f}, Validation Accuracy: {val_accuracy:.2f}%\")\n",
    "\n",
    "    # Scheduler basierend auf Validierungsverlust anpassen\n",
    "    scheduler.step(val_loss)\n"
   ]
  },
  {
   "cell_type": "code",
   "execution_count": null,
   "metadata": {
    "colab": {
     "base_uri": "https://localhost:8080/",
     "height": 489
    },
    "executionInfo": {
     "elapsed": 135513,
     "status": "ok",
     "timestamp": 1731351156539,
     "user": {
      "displayName": "Sivanajani Sivakumar",
      "userId": "00272301002448920096"
     },
     "user_tz": -60
    },
    "id": "MZTFGgXTFCkZ",
    "outputId": "1f65a744-5adb-4995-9258-40dbbb6a2133"
   },
   "outputs": [
    {
     "data": {
      "text/plain": [
       "<Figure size 1000x1000 with 0 Axes>"
      ]
     },
     "metadata": {},
     "output_type": "display_data"
    },
    {
     "data": {
      "image/png": "[encoded data removed]",
      "text/plain": [
       "<Figure size 640x480 with 2 Axes>"
      ]
     },
     "metadata": {},
     "output_type": "display_data"
    }
   ],
   "source": [
    "import torch\n",
    "import numpy as np\n",
    "import matplotlib.pyplot as plt\n",
    "from sklearn.metrics import confusion_matrix, ConfusionMatrixDisplay\n",
    "\n",
    "# Alle Vorhersagen und Labels sammeln\n",
    "all_labels = []\n",
    "all_preds = []\n",
    "\n",
    "model.eval()  # Setzt das Modell in den Evaluierungsmodus\n",
    "\n",
    "with torch.no_grad():  # Deaktiviert das Gradienten-Tracking\n",
    "    for images, labels in test_loader:\n",
    "        images, labels = images.to(device), labels.to(device)\n",
    "\n",
    "        # Modellvorhersagen sammeln\n",
    "        outputs = model(images).logits\n",
    "        _, predicted = torch.max(outputs, 1)\n",
    "\n",
    "        all_labels.extend(labels.cpu().numpy())\n",
    "        all_preds.extend(predicted.cpu().numpy())\n",
    "\n",
    "# Confusion-Matrix berechnen\n",
    "cm = confusion_matrix(all_labels, all_preds)\n",
    "disp = ConfusionMatrixDisplay(confusion_matrix=cm, display_labels=train_dataset.classes)\n",
    "\n",
    "# Confusion-Matrix anzeigen\n",
    "plt.figure(figsize=(10, 10))\n",
    "disp.plot(cmap=plt.cm.Blues)\n",
    "plt.title(\"Confusion Matrix\")\n",
    "plt.show()\n"
   ]
  },
  {
   "cell_type": "code",
   "execution_count": null,
   "metadata": {
    "colab": {
     "base_uri": "https://localhost:8080/",
     "height": 341
    },
    "executionInfo": {
     "elapsed": 3724,
     "status": "ok",
     "timestamp": 1731081908642,
     "user": {
      "displayName": "Sivanajani Sivakumar",
      "userId": "00272301002448920096"
     },
     "user_tz": -60
    },
    "id": "jIBKV8RlPWKs",
    "outputId": "77f334d2-a37f-4d53-9abf-ea799a488aae"
   },
   "outputs": [
    {
     "name": "stderr",
     "output_type": "stream",
     "text": [
      "/usr/local/lib/python3.10/dist-packages/torch/utils/data/dataloader.py:617: UserWarning: This DataLoader will create 10 worker processes in total. Our suggested max number of worker in current system is 2, which is smaller than what this DataLoader is going to create. Please be aware that excessive worker creation might get DataLoader running slow or even freeze, lower the worker number to avoid potential slowness/freeze if necessary.\n",
      "  warnings.warn(\n"
     ]
    },
    {
     "data": {
      "image/png": "[encoded data removed]",
      "text/plain": [
       "<Figure size 640x480 with 1 Axes>"
      ]
     },
     "metadata": {},
     "output_type": "display_data"
    },
    {
     "name": "stdout",
     "output_type": "stream",
     "text": [
      "GroundTruth: disgusted disgusted neutral surprised angry surprised neutral fearful sad sad fearful angry sad fearful happy surprised disgusted fearful angry fearful\n",
      "Predicted:  disgusted angry sad surprised disgusted surprised surprised fearful disgusted sad angry angry neutral surprised happy angry angry fearful disgusted fearful\n"
     ]
    }
   ],
   "source": [
    "import torch\n",
    "import torchvision\n",
    "import matplotlib.pyplot as plt\n",
    "import numpy as np\n",
    "import random\n",
    "\n",
    "def imshow(img):\n",
    "    img = img / 2 + 0.5  # Denormalisieren\n",
    "    npimg = img.numpy()\n",
    "    plt.imshow(np.transpose(npimg, (1, 2, 0)))\n",
    "    plt.show()\n",
    "\n",
    "# Testdatensatz mit shuffle=True für Zufälligkeit\n",
    "test_loader = torch.utils.data.DataLoader(\n",
    "    test_dataset,\n",
    "    batch_size=20,\n",
    "    shuffle=True,  # Aktiviert zufällige Auswahl\n",
    "    num_workers=10,\n",
    "    pin_memory=True\n",
    ")\n",
    "\n",
    "dataiter = iter(test_loader)\n",
    "images, labels = next(dataiter)\n",
    "images, labels = images.to(device), labels.to(device)\n",
    "\n",
    "outputs = model(images).logits\n",
    "_, predicted = torch.max(outputs, 1)\n",
    "\n",
    "# Zeige die Bilder und Vorhersage\n",
    "imshow(torchvision.utils.make_grid(images.cpu()))\n",
    "print('GroundTruth:', ' '.join(f'{train_dataset.classes[labels[j]]}' for j in range(20)))\n",
    "print('Predicted: ', ' '.join(f'{train_dataset.classes[predicted[j]]}' for j in range(20)))"
   ]
  },
  {
   "cell_type": "code",
   "execution_count": null,
   "metadata": {
    "colab": {
     "base_uri": "https://localhost:8080/",
     "height": 287
    },
    "executionInfo": {
     "elapsed": 4327,
     "status": "ok",
     "timestamp": 1731081925641,
     "user": {
      "displayName": "Sivanajani Sivakumar",
      "userId": "00272301002448920096"
     },
     "user_tz": -60
    },
    "id": "ssoMG_5yDatJ",
    "outputId": "6b82ba35-2b41-49d2-8c71-f5d22e51bb74"
   },
   "outputs": [
    {
     "data": {
      "image/png": "[encoded data removed]",
      "text/plain": [
       "<Figure size 640x480 with 1 Axes>"
      ]
     },
     "metadata": {},
     "output_type": "display_data"
    },
    {
     "name": "stdout",
     "output_type": "stream",
     "text": [
      "GroundTruth: surprised surprised fearful fearful neutral angry disgusted surprised\n",
      "Predicted:  surprised surprised surprised fearful sad disgusted disgusted surprised\n"
     ]
    }
   ],
   "source": [
    "import torchvision\n",
    "import matplotlib.pyplot as plt\n",
    "import numpy as np\n",
    "\n",
    "# Ein paar Beispielbilder mit ihren Vorhersagen anzeigen\n",
    "def imshow(img):\n",
    "    img = img / 2 + 0.5  # Denormalisieren\n",
    "    npimg = img.numpy()\n",
    "    plt.imshow(np.transpose(npimg, (1, 2, 0)))\n",
    "    plt.show()\n",
    "\n",
    "# Einige Bilder vom Testdatensatz anzeigen und vorhersagen\n",
    "dataiter = iter(test_loader)\n",
    "images, labels = next(dataiter)  # Verwende next() anstelle von .next()\n",
    "images, labels = images.to(device), labels.to(device)\n",
    "\n",
    "outputs = model(images).logits\n",
    "_, predicted = torch.max(outputs, 1)\n",
    "\n",
    "# Zeige die Bilder und Vorhersage.\n",
    "imshow(torchvision.utils.make_grid(images.cpu()))\n",
    "print('GroundTruth:', ' '.join(f'{train_dataset.classes[labels[j]]}' for j in range(8)))\n",
    "print('Predicted: ', ' '.join(f'{train_dataset.classes[predicted[j]]}' for j in range(8)))\n",
    "\n"
   ]
  },
  {
   "cell_type": "code",
   "execution_count": null,
   "metadata": {
    "colab": {
     "base_uri": "https://localhost:8080/"
    },
    "executionInfo": {
     "elapsed": 1851,
     "status": "ok",
     "timestamp": 1731356728337,
     "user": {
      "displayName": "Sivanajani Sivakumar",
      "userId": "00272301002448920096"
     },
     "user_tz": -60
    },
    "id": "9LNKWz4nX5kS",
    "outputId": "fb6697b5-7507-405a-ed89-ae2658471899"
   },
   "outputs": [
    {
     "name": "stdout",
     "output_type": "stream",
     "text": [
      "Drive already mounted at /content/drive; to attempt to forcibly remount, call drive.mount(\"/content/drive\", force_remount=True).\n"
     ]
    }
   ],
   "source": [
    "from google.colab import drive\n",
    "drive.mount('/content/drive')\n"
   ]
  },
  {
   "cell_type": "code",
   "execution_count": null,
   "metadata": {
    "colab": {
     "base_uri": "https://localhost:8080/"
    },
    "executionInfo": {
     "elapsed": 4524,
     "status": "ok",
     "timestamp": 1731357436836,
     "user": {
      "displayName": "Sivanajani Sivakumar",
      "userId": "00272301002448920096"
     },
     "user_tz": -60
    },
    "id": "x61b9pWBYqaB",
    "outputId": "6be3ae88-30fe-4590-9562-e0e74f789da1"
   },
   "outputs": [
    {
     "name": "stdout",
     "output_type": "stream",
     "text": [
      "Drive already mounted at /content/drive; to attempt to forcibly remount, call drive.mount(\"/content/drive\", force_remount=True).\n"
     ]
    }
   ],
   "source": [
    "import os\n",
    "from google.colab import drive\n",
    "\n",
    "# Google Drive mounten\n",
    "drive.mount('/content/drive')\n",
    "\n",
    "# Erstellen des Ordners \"colab\" falls er nicht existiert\n",
    "colab_folder_path = \"/content/drive/MyDrive/ds2\"\n",
    "if not os.path.exists(colab_folder_path):\n",
    "    os.makedirs(colab_folder_path)\n",
    "\n",
    "# Speichern des Modells\n",
    "model_path = os.path.join(colab_folder_path, \"vit_model3.pth\")\n",
    "torch.save(model.state_dict(), model_path)\n"
   ]
  },
  {
   "cell_type": "code",
   "execution_count": null,
   "metadata": {
    "id": "HmEapYMtISJc"
   },
   "outputs": [],
   "source": [
    "torch.save(model.state_dict(), 'visualTransformer3.pth')"
   ]
  },
  {
   "cell_type": "code",
   "execution_count": null,
   "metadata": {
    "id": "XcCJd0nlcs1D"
   },
   "outputs": [],
   "source": [
    "#für am schluss\n",
    "\n",
    "# Nur die letzten Layer und den Head des Modells trainieren\n",
    "for param in model.parameters():\n",
    "    param.requires_grad = False\n",
    "\n",
    "# Entfrieren der letzten Transformer-Block-Parameter und des Klassifikations-Heads\n",
    "for param in model.vit.encoder.layer[-1].parameters():\n",
    "    param.requires_grad = True\n",
    "for param in model.classifier.parameters():\n",
    "    param.requires_grad = True\n",
    "\n",
    "# Differenzierte Lernrate für fein abgestimmte Layer\n",
    "optimizer = torch.optim.AdamW([\n",
    "    {\"params\": model.vit.encoder.layer[-1].parameters(), \"lr\": 5e-5},  # Langsames Lernen für den letzten Layer\n",
    "    {\"params\": model.classifier.parameters(), \"lr\": 5e-4}  # Höhere Lernrate für den Klassifizierungs-Head\n",
    "])\n"
   ]
  }
 ],
 "metadata": {
  "accelerator": "GPU",
  "colab": {
   "authorship_tag": "ABX9TyN75yQJ0kSI1b+RR4oIz23W",
   "gpuType": "T4",
   "provenance": []
  },
  "kernelspec": {
   "display_name": "Python 3",
   "name": "python3"
  },
  "language_info": {
   "name": "python"
  },
  "widgets": {
   "application/vnd.jupyter.widget-state+json": {
    "0708f2d6b2234e9184657d72f747545e": {
     "model_module": "@jupyter-widgets/base",
     "model_module_version": "1.2.0",
     "model_name": "LayoutModel",
     "state": {
      "_model_module": "@jupyter-widgets/base",
      "_model_module_version": "1.2.0",
      "_model_name": "LayoutModel",
      "_view_count": null,
      "_view_module": "@jupyter-widgets/base",
      "_view_module_version": "1.2.0",
      "_view_name": "LayoutView",
      "align_content": null,
      "align_items": null,
      "align_self": null,
      "border": null,
      "bottom": null,
      "display": null,
      "flex": null,
      "flex_flow": null,
      "grid_area": null,
      "grid_auto_columns": null,
      "grid_auto_flow": null,
      "grid_auto_rows": null,
      "grid_column": null,
      "grid_gap": null,
      "grid_row": null,
      "grid_template_areas": null,
      "grid_template_columns": null,
      "grid_template_rows": null,
      "height": null,
      "justify_content": null,
      "justify_items": null,
      "left": null,
      "margin": null,
      "max_height": null,
      "max_width": null,
      "min_height": null,
      "min_width": null,
      "object_fit": null,
      "object_position": null,
      "order": null,
      "overflow": null,
      "overflow_x": null,
      "overflow_y": null,
      "padding": null,
      "right": null,
      "top": null,
      "visibility": null,
      "width": null
     }
    },
    "1a5d3400b7fe4306a156c6ceb9edbca8": {
     "model_module": "@jupyter-widgets/base",
     "model_module_version": "1.2.0",
     "model_name": "LayoutModel",
     "state": {
      "_model_module": "@jupyter-widgets/base",
      "_model_module_version": "1.2.0",
      "_model_name": "LayoutModel",
      "_view_count": null,
      "_view_module": "@jupyter-widgets/base",
      "_view_module_version": "1.2.0",
      "_view_name": "LayoutView",
      "align_content": null,
      "align_items": null,
      "align_self": null,
      "border": null,
      "bottom": null,
      "display": null,
      "flex": null,
      "flex_flow": null,
      "grid_area": null,
      "grid_auto_columns": null,
      "grid_auto_flow": null,
      "grid_auto_rows": null,
      "grid_column": null,
      "grid_gap": null,
      "grid_row": null,
      "grid_template_areas": null,
      "grid_template_columns": null,
      "grid_template_rows": null,
      "height": null,
      "justify_content": null,
      "justify_items": null,
      "left": null,
      "margin": null,
      "max_height": null,
      "max_width": null,
      "min_height": null,
      "min_width": null,
      "object_fit": null,
      "object_position": null,
      "order": null,
      "overflow": null,
      "overflow_x": null,
      "overflow_y": null,
      "padding": null,
      "right": null,
      "top": null,
      "visibility": null,
      "width": null
     }
    },
    "1e9e2807e05044c9b1936a9604c20624": {
     "model_module": "@jupyter-widgets/controls",
     "model_module_version": "1.5.0",
     "model_name": "HTMLModel",
     "state": {
      "_dom_classes": [],
      "_model_module": "@jupyter-widgets/controls",
      "_model_module_version": "1.5.0",
      "_model_name": "HTMLModel",
      "_view_count": null,
      "_view_module": "@jupyter-widgets/controls",
      "_view_module_version": "1.5.0",
      "_view_name": "HTMLView",
      "description": "",
      "description_tooltip": null,
      "layout": "IPY_MODEL_6ea5d6d1b6434c49ab77e1ee14fff043",
      "placeholder": "​",
      "style": "IPY_MODEL_55b5927773e24e37b15c86b2b001b18a",
      "value": "model.safetensors: 100%"
     }
    },
    "2c75e670428f4d5fa71cfafe805e1aff": {
     "model_module": "@jupyter-widgets/base",
     "model_module_version": "1.2.0",
     "model_name": "LayoutModel",
     "state": {
      "_model_module": "@jupyter-widgets/base",
      "_model_module_version": "1.2.0",
      "_model_name": "LayoutModel",
      "_view_count": null,
      "_view_module": "@jupyter-widgets/base",
      "_view_module_version": "1.2.0",
      "_view_name": "LayoutView",
      "align_content": null,
      "align_items": null,
      "align_self": null,
      "border": null,
      "bottom": null,
      "display": null,
      "flex": null,
      "flex_flow": null,
      "grid_area": null,
      "grid_auto_columns": null,
      "grid_auto_flow": null,
      "grid_auto_rows": null,
      "grid_column": null,
      "grid_gap": null,
      "grid_row": null,
      "grid_template_areas": null,
      "grid_template_columns": null,
      "grid_template_rows": null,
      "height": null,
      "justify_content": null,
      "justify_items": null,
      "left": null,
      "margin": null,
      "max_height": null,
      "max_width": null,
      "min_height": null,
      "min_width": null,
      "object_fit": null,
      "object_position": null,
      "order": null,
      "overflow": null,
      "overflow_x": null,
      "overflow_y": null,
      "padding": null,
      "right": null,
      "top": null,
      "visibility": null,
      "width": null
     }
    },
    "4e28ffdc65604123a773fa645bd10fce": {
     "model_module": "@jupyter-widgets/base",
     "model_module_version": "1.2.0",
     "model_name": "LayoutModel",
     "state": {
      "_model_module": "@jupyter-widgets/base",
      "_model_module_version": "1.2.0",
      "_model_name": "LayoutModel",
      "_view_count": null,
      "_view_module": "@jupyter-widgets/base",
      "_view_module_version": "1.2.0",
      "_view_name": "LayoutView",
      "align_content": null,
      "align_items": null,
      "align_self": null,
      "border": null,
      "bottom": null,
      "display": null,
      "flex": null,
      "flex_flow": null,
      "grid_area": null,
      "grid_auto_columns": null,
      "grid_auto_flow": null,
      "grid_auto_rows": null,
      "grid_column": null,
      "grid_gap": null,
      "grid_row": null,
      "grid_template_areas": null,
      "grid_template_columns": null,
      "grid_template_rows": null,
      "height": null,
      "justify_content": null,
      "justify_items": null,
      "left": null,
      "margin": null,
      "max_height": null,
      "max_width": null,
      "min_height": null,
      "min_width": null,
      "object_fit": null,
      "object_position": null,
      "order": null,
      "overflow": null,
      "overflow_x": null,
      "overflow_y": null,
      "padding": null,
      "right": null,
      "top": null,
      "visibility": null,
      "width": null
     }
    },
    "50fa12428d1749a58888e9a92fc5377f": {
     "model_module": "@jupyter-widgets/controls",
     "model_module_version": "1.5.0",
     "model_name": "DescriptionStyleModel",
     "state": {
      "_model_module": "@jupyter-widgets/controls",
      "_model_module_version": "1.5.0",
      "_model_name": "DescriptionStyleModel",
      "_view_count": null,
      "_view_module": "@jupyter-widgets/base",
      "_view_module_version": "1.2.0",
      "_view_name": "StyleView",
      "description_width": ""
     }
    },
    "55b5927773e24e37b15c86b2b001b18a": {
     "model_module": "@jupyter-widgets/controls",
     "model_module_version": "1.5.0",
     "model_name": "DescriptionStyleModel",
     "state": {
      "_model_module": "@jupyter-widgets/controls",
      "_model_module_version": "1.5.0",
      "_model_name": "DescriptionStyleModel",
      "_view_count": null,
      "_view_module": "@jupyter-widgets/base",
      "_view_module_version": "1.2.0",
      "_view_name": "StyleView",
      "description_width": ""
     }
    },
    "5aef6cdea5484ef5a480c21fa4921612": {
     "model_module": "@jupyter-widgets/base",
     "model_module_version": "1.2.0",
     "model_name": "LayoutModel",
     "state": {
      "_model_module": "@jupyter-widgets/base",
      "_model_module_version": "1.2.0",
      "_model_name": "LayoutModel",
      "_view_count": null,
      "_view_module": "@jupyter-widgets/base",
      "_view_module_version": "1.2.0",
      "_view_name": "LayoutView",
      "align_content": null,
      "align_items": null,
      "align_self": null,
      "border": null,
      "bottom": null,
      "display": null,
      "flex": null,
      "flex_flow": null,
      "grid_area": null,
      "grid_auto_columns": null,
      "grid_auto_flow": null,
      "grid_auto_rows": null,
      "grid_column": null,
      "grid_gap": null,
      "grid_row": null,
      "grid_template_areas": null,
      "grid_template_columns": null,
      "grid_template_rows": null,
      "height": null,
      "justify_content": null,
      "justify_items": null,
      "left": null,
      "margin": null,
      "max_height": null,
      "max_width": null,
      "min_height": null,
      "min_width": null,
      "object_fit": null,
      "object_position": null,
      "order": null,
      "overflow": null,
      "overflow_x": null,
      "overflow_y": null,
      "padding": null,
      "right": null,
      "top": null,
      "visibility": null,
      "width": null
     }
    },
    "6ea5d6d1b6434c49ab77e1ee14fff043": {
     "model_module": "@jupyter-widgets/base",
     "model_module_version": "1.2.0",
     "model_name": "LayoutModel",
     "state": {
      "_model_module": "@jupyter-widgets/base",
      "_model_module_version": "1.2.0",
      "_model_name": "LayoutModel",
      "_view_count": null,
      "_view_module": "@jupyter-widgets/base",
      "_view_module_version": "1.2.0",
      "_view_name": "LayoutView",
      "align_content": null,
      "align_items": null,
      "align_self": null,
      "border": null,
      "bottom": null,
      "display": null,
      "flex": null,
      "flex_flow": null,
      "grid_area": null,
      "grid_auto_columns": null,
      "grid_auto_flow": null,
      "grid_auto_rows": null,
      "grid_column": null,
      "grid_gap": null,
      "grid_row": null,
      "grid_template_areas": null,
      "grid_template_columns": null,
      "grid_template_rows": null,
      "height": null,
      "justify_content": null,
      "justify_items": null,
      "left": null,
      "margin": null,
      "max_height": null,
      "max_width": null,
      "min_height": null,
      "min_width": null,
      "object_fit": null,
      "object_position": null,
      "order": null,
      "overflow": null,
      "overflow_x": null,
      "overflow_y": null,
      "padding": null,
      "right": null,
      "top": null,
      "visibility": null,
      "width": null
     }
    },
    "75d5155577814aff9ad32aa7e90917a6": {
     "model_module": "@jupyter-widgets/controls",
     "model_module_version": "1.5.0",
     "model_name": "FloatProgressModel",
     "state": {
      "_dom_classes": [],
      "_model_module": "@jupyter-widgets/controls",
      "_model_module_version": "1.5.0",
      "_model_name": "FloatProgressModel",
      "_view_count": null,
      "_view_module": "@jupyter-widgets/controls",
      "_view_module_version": "1.5.0",
      "_view_name": "ProgressView",
      "bar_style": "success",
      "description": "",
      "description_tooltip": null,
      "layout": "IPY_MODEL_2c75e670428f4d5fa71cfafe805e1aff",
      "max": 69665,
      "min": 0,
      "orientation": "horizontal",
      "style": "IPY_MODEL_8359071847c24905867b272b66e7509b",
      "value": 69665
     }
    },
    "7c37bcebe66244a28a6742bfc3598618": {
     "model_module": "@jupyter-widgets/controls",
     "model_module_version": "1.5.0",
     "model_name": "HTMLModel",
     "state": {
      "_dom_classes": [],
      "_model_module": "@jupyter-widgets/controls",
      "_model_module_version": "1.5.0",
      "_model_name": "HTMLModel",
      "_view_count": null,
      "_view_module": "@jupyter-widgets/controls",
      "_view_module_version": "1.5.0",
      "_view_name": "HTMLView",
      "description": "",
      "description_tooltip": null,
      "layout": "IPY_MODEL_fe952b77d9c14193b3ed2286bea3ec3a",
      "placeholder": "​",
      "style": "IPY_MODEL_50fa12428d1749a58888e9a92fc5377f",
      "value": " 346M/346M [00:01&lt;00:00, 245MB/s]"
     }
    },
    "8359071847c24905867b272b66e7509b": {
     "model_module": "@jupyter-widgets/controls",
     "model_module_version": "1.5.0",
     "model_name": "ProgressStyleModel",
     "state": {
      "_model_module": "@jupyter-widgets/controls",
      "_model_module_version": "1.5.0",
      "_model_name": "ProgressStyleModel",
      "_view_count": null,
      "_view_module": "@jupyter-widgets/base",
      "_view_module_version": "1.2.0",
      "_view_name": "StyleView",
      "bar_color": null,
      "description_width": ""
     }
    },
    "981dbd9ff1c7465db11d8e27c46ca307": {
     "model_module": "@jupyter-widgets/controls",
     "model_module_version": "1.5.0",
     "model_name": "HTMLModel",
     "state": {
      "_dom_classes": [],
      "_model_module": "@jupyter-widgets/controls",
      "_model_module_version": "1.5.0",
      "_model_name": "HTMLModel",
      "_view_count": null,
      "_view_module": "@jupyter-widgets/controls",
      "_view_module_version": "1.5.0",
      "_view_name": "HTMLView",
      "description": "",
      "description_tooltip": null,
      "layout": "IPY_MODEL_0708f2d6b2234e9184657d72f747545e",
      "placeholder": "​",
      "style": "IPY_MODEL_ac6627dbe3454645ba81b51f32ed9a06",
      "value": "config.json: 100%"
     }
    },
    "992a7decfd574849aec6f3f0faca2aa6": {
     "model_module": "@jupyter-widgets/base",
     "model_module_version": "1.2.0",
     "model_name": "LayoutModel",
     "state": {
      "_model_module": "@jupyter-widgets/base",
      "_model_module_version": "1.2.0",
      "_model_name": "LayoutModel",
      "_view_count": null,
      "_view_module": "@jupyter-widgets/base",
      "_view_module_version": "1.2.0",
      "_view_name": "LayoutView",
      "align_content": null,
      "align_items": null,
      "align_self": null,
      "border": null,
      "bottom": null,
      "display": null,
      "flex": null,
      "flex_flow": null,
      "grid_area": null,
      "grid_auto_columns": null,
      "grid_auto_flow": null,
      "grid_auto_rows": null,
      "grid_column": null,
      "grid_gap": null,
      "grid_row": null,
      "grid_template_areas": null,
      "grid_template_columns": null,
      "grid_template_rows": null,
      "height": null,
      "justify_content": null,
      "justify_items": null,
      "left": null,
      "margin": null,
      "max_height": null,
      "max_width": null,
      "min_height": null,
      "min_width": null,
      "object_fit": null,
      "object_position": null,
      "order": null,
      "overflow": null,
      "overflow_x": null,
      "overflow_y": null,
      "padding": null,
      "right": null,
      "top": null,
      "visibility": null,
      "width": null
     }
    },
    "ac6627dbe3454645ba81b51f32ed9a06": {
     "model_module": "@jupyter-widgets/controls",
     "model_module_version": "1.5.0",
     "model_name": "DescriptionStyleModel",
     "state": {
      "_model_module": "@jupyter-widgets/controls",
      "_model_module_version": "1.5.0",
      "_model_name": "DescriptionStyleModel",
      "_view_count": null,
      "_view_module": "@jupyter-widgets/base",
      "_view_module_version": "1.2.0",
      "_view_name": "StyleView",
      "description_width": ""
     }
    },
    "aebcc9efed0d4293b47c964c357ff3f1": {
     "model_module": "@jupyter-widgets/controls",
     "model_module_version": "1.5.0",
     "model_name": "ProgressStyleModel",
     "state": {
      "_model_module": "@jupyter-widgets/controls",
      "_model_module_version": "1.5.0",
      "_model_name": "ProgressStyleModel",
      "_view_count": null,
      "_view_module": "@jupyter-widgets/base",
      "_view_module_version": "1.2.0",
      "_view_name": "StyleView",
      "bar_color": null,
      "description_width": ""
     }
    },
    "c6620751903f448db470cc8b2bb87bcb": {
     "model_module": "@jupyter-widgets/controls",
     "model_module_version": "1.5.0",
     "model_name": "DescriptionStyleModel",
     "state": {
      "_model_module": "@jupyter-widgets/controls",
      "_model_module_version": "1.5.0",
      "_model_name": "DescriptionStyleModel",
      "_view_count": null,
      "_view_module": "@jupyter-widgets/base",
      "_view_module_version": "1.2.0",
      "_view_name": "StyleView",
      "description_width": ""
     }
    },
    "cc3452ab9e1a4fd29128046717a2f5c5": {
     "model_module": "@jupyter-widgets/controls",
     "model_module_version": "1.5.0",
     "model_name": "HTMLModel",
     "state": {
      "_dom_classes": [],
      "_model_module": "@jupyter-widgets/controls",
      "_model_module_version": "1.5.0",
      "_model_name": "HTMLModel",
      "_view_count": null,
      "_view_module": "@jupyter-widgets/controls",
      "_view_module_version": "1.5.0",
      "_view_name": "HTMLView",
      "description": "",
      "description_tooltip": null,
      "layout": "IPY_MODEL_5aef6cdea5484ef5a480c21fa4921612",
      "placeholder": "​",
      "style": "IPY_MODEL_c6620751903f448db470cc8b2bb87bcb",
      "value": " 69.7k/69.7k [00:00&lt;00:00, 1.45MB/s]"
     }
    },
    "f362190d729746e1b86f4244093d9463": {
     "model_module": "@jupyter-widgets/controls",
     "model_module_version": "1.5.0",
     "model_name": "HBoxModel",
     "state": {
      "_dom_classes": [],
      "_model_module": "@jupyter-widgets/controls",
      "_model_module_version": "1.5.0",
      "_model_name": "HBoxModel",
      "_view_count": null,
      "_view_module": "@jupyter-widgets/controls",
      "_view_module_version": "1.5.0",
      "_view_name": "HBoxView",
      "box_style": "",
      "children": [
       "IPY_MODEL_981dbd9ff1c7465db11d8e27c46ca307",
       "IPY_MODEL_75d5155577814aff9ad32aa7e90917a6",
       "IPY_MODEL_cc3452ab9e1a4fd29128046717a2f5c5"
      ],
      "layout": "IPY_MODEL_4e28ffdc65604123a773fa645bd10fce"
     }
    },
    "f635a39925ee4bcc961273f93d4d844a": {
     "model_module": "@jupyter-widgets/controls",
     "model_module_version": "1.5.0",
     "model_name": "FloatProgressModel",
     "state": {
      "_dom_classes": [],
      "_model_module": "@jupyter-widgets/controls",
      "_model_module_version": "1.5.0",
      "_model_name": "FloatProgressModel",
      "_view_count": null,
      "_view_module": "@jupyter-widgets/controls",
      "_view_module_version": "1.5.0",
      "_view_name": "ProgressView",
      "bar_style": "success",
      "description": "",
      "description_tooltip": null,
      "layout": "IPY_MODEL_992a7decfd574849aec6f3f0faca2aa6",
      "max": 346293852,
      "min": 0,
      "orientation": "horizontal",
      "style": "IPY_MODEL_aebcc9efed0d4293b47c964c357ff3f1",
      "value": 346293852
     }
    },
    "fe952b77d9c14193b3ed2286bea3ec3a": {
     "model_module": "@jupyter-widgets/base",
     "model_module_version": "1.2.0",
     "model_name": "LayoutModel",
     "state": {
      "_model_module": "@jupyter-widgets/base",
      "_model_module_version": "1.2.0",
      "_model_name": "LayoutModel",
      "_view_count": null,
      "_view_module": "@jupyter-widgets/base",
      "_view_module_version": "1.2.0",
      "_view_name": "LayoutView",
      "align_content": null,
      "align_items": null,
      "align_self": null,
      "border": null,
      "bottom": null,
      "display": null,
      "flex": null,
      "flex_flow": null,
      "grid_area": null,
      "grid_auto_columns": null,
      "grid_auto_flow": null,
      "grid_auto_rows": null,
      "grid_column": null,
      "grid_gap": null,
      "grid_row": null,
      "grid_template_areas": null,
      "grid_template_columns": null,
      "grid_template_rows": null,
      "height": null,
      "justify_content": null,
      "justify_items": null,
      "left": null,
      "margin": null,
      "max_height": null,
      "max_width": null,
      "min_height": null,
      "min_width": null,
      "object_fit": null,
      "object_position": null,
      "order": null,
      "overflow": null,
      "overflow_x": null,
      "overflow_y": null,
      "padding": null,
      "right": null,
      "top": null,
      "visibility": null,
      "width": null
     }
    },
    "febfbc680a7c4e9c9440479ea7d259b6": {
     "model_module": "@jupyter-widgets/controls",
     "model_module_version": "1.5.0",
     "model_name": "HBoxModel",
     "state": {
      "_dom_classes": [],
      "_model_module": "@jupyter-widgets/controls",
      "_model_module_version": "1.5.0",
      "_model_name": "HBoxModel",
      "_view_count": null,
      "_view_module": "@jupyter-widgets/controls",
      "_view_module_version": "1.5.0",
      "_view_name": "HBoxView",
      "box_style": "",
      "children": [
       "IPY_MODEL_1e9e2807e05044c9b1936a9604c20624",
       "IPY_MODEL_f635a39925ee4bcc961273f93d4d844a",
       "IPY_MODEL_7c37bcebe66244a28a6742bfc3598618"
      ],
      "layout": "IPY_MODEL_1a5d3400b7fe4306a156c6ceb9edbca8"
     }
    }
   }
  }
 },
 "nbformat": 4,
 "nbformat_minor": 0
}
